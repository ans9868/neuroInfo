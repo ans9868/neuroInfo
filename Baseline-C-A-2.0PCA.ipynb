{
 "cells": [
  {
   "cell_type": "code",
   "execution_count": null,
   "id": "ed74e6eb-47a5-4bfb-9354-35ebce27803e",
   "metadata": {},
   "outputs": [],
   "source": [
    "#doing the PCA for Control V.S. Alzeimers"
   ]
  },
  {
   "cell_type": "code",
   "execution_count": 38,
   "id": "a2555979-918e-4d81-b123-46c9b4216b0c",
   "metadata": {},
   "outputs": [],
   "source": [
    "import numpy as np\n",
    "import pandas as pd\n",
    "import matplotlib.pyplot as plt\n",
    "import seaborn as sns\n",
    "from sklearn.preprocessing import StandardScaler\n",
    "from sklearn.decomposition import PCA\n",
    "from sklearn.model_selection import GridSearchCV, cross_val_score\n",
    "from sklearn.metrics import accuracy_score, confusion_matrix\n",
    "from sklearn.cluster import KMeans\n",
    "from sklearn.svm import SVC\n",
    "from sklearn.linear_model import LogisticRegression\n",
    "from sklearn.naive_bayes import GaussianNB\n",
    "from sklearn.ensemble import RandomForestClassifier\n",
    "import mne\n",
    "import entropy as ent\n",
    "import neurokit2 as nk\n",
    "from scipy.signal import welch\n",
    "from nolds import lyap_r\n",
    "import antropy as ant\n",
    "import joblib"
   ]
  },
  {
   "cell_type": "code",
   "execution_count": 39,
   "id": "ca644504-3620-43be-ab10-60d3b73e4cdc",
   "metadata": {},
   "outputs": [],
   "source": [
    "#loading in the dataframs "
   ]
  },
  {
   "cell_type": "code",
   "execution_count": 63,
   "id": "c0f0ed01-ef89-4371-b89a-be00f6ed4f1f",
   "metadata": {},
   "outputs": [],
   "source": [
    "alz_df = pd.read_csv(\"Alzeimers.csv\")\n",
    "alz_df.set_index([\"Subject\", \"Channel\", \"Band\"], inplace=True)  # Restore MultiIndex manually\n",
    "\n",
    "control_df = pd.read_csv(\"control.csv\")\n",
    "control_df.set_index([\"Subject\", \"Channel\", \"Band\"], inplace=True)  "
   ]
  },
  {
   "cell_type": "code",
   "execution_count": 65,
   "id": "17a6a349-365a-4f29-98de-d8ad03bcd9cd",
   "metadata": {},
   "outputs": [
    {
     "name": "stdout",
     "output_type": "stream",
     "text": [
      "<class 'str'>\n"
     ]
    }
   ],
   "source": [
    "print(type(alz_df.loc[('sub-001', 'Fp1', 'Delta'), \"Window Avg\"]))\n"
   ]
  },
  {
   "cell_type": "code",
   "execution_count": 66,
   "id": "6d397eda-cdc1-474e-869a-e2ba91d50e40",
   "metadata": {},
   "outputs": [
    {
     "ename": "ValueError",
     "evalue": "malformed node or string: <ast.Call object at 0x176fda130>",
     "output_type": "error",
     "traceback": [
      "\u001b[0;31m---------------------------------------------------------------------------\u001b[0m",
      "\u001b[0;31mValueError\u001b[0m                                Traceback (most recent call last)",
      "Cell \u001b[0;32mIn[66], line 9\u001b[0m\n\u001b[1;32m      6\u001b[0m     \u001b[38;5;28;01mreturn\u001b[39;00m val  \u001b[38;5;66;03m# Otherwise, keep as is\u001b[39;00m\n\u001b[1;32m      8\u001b[0m \u001b[38;5;66;03m# Apply conversion to \"Window Avg\"\u001b[39;00m\n\u001b[0;32m----> 9\u001b[0m alz_df[\u001b[38;5;124m\"\u001b[39m\u001b[38;5;124mWindow Avg\u001b[39m\u001b[38;5;124m\"\u001b[39m] \u001b[38;5;241m=\u001b[39m \u001b[43malz_df\u001b[49m\u001b[43m[\u001b[49m\u001b[38;5;124;43m\"\u001b[39;49m\u001b[38;5;124;43mWindow Avg\u001b[39;49m\u001b[38;5;124;43m\"\u001b[39;49m\u001b[43m]\u001b[49m\u001b[38;5;241;43m.\u001b[39;49m\u001b[43mapply\u001b[49m\u001b[43m(\u001b[49m\u001b[43mconvert_str_to_list\u001b[49m\u001b[43m)\u001b[49m\n\u001b[1;32m     10\u001b[0m control_df[\u001b[38;5;124m\"\u001b[39m\u001b[38;5;124mWindow Avg\u001b[39m\u001b[38;5;124m\"\u001b[39m] \u001b[38;5;241m=\u001b[39m control_df[\u001b[38;5;124m\"\u001b[39m\u001b[38;5;124mWindow Avg\u001b[39m\u001b[38;5;124m\"\u001b[39m]\u001b[38;5;241m.\u001b[39mapply(convert_str_to_list)\n",
      "File \u001b[0;32m~/neuro-venv/lib/python3.9/site-packages/pandas/core/series.py:4917\u001b[0m, in \u001b[0;36mSeries.apply\u001b[0;34m(self, func, convert_dtype, args, by_row, **kwargs)\u001b[0m\n\u001b[1;32m   4789\u001b[0m \u001b[38;5;28;01mdef\u001b[39;00m\u001b[38;5;250m \u001b[39m\u001b[38;5;21mapply\u001b[39m(\n\u001b[1;32m   4790\u001b[0m     \u001b[38;5;28mself\u001b[39m,\n\u001b[1;32m   4791\u001b[0m     func: AggFuncType,\n\u001b[0;32m   (...)\u001b[0m\n\u001b[1;32m   4796\u001b[0m     \u001b[38;5;241m*\u001b[39m\u001b[38;5;241m*\u001b[39mkwargs,\n\u001b[1;32m   4797\u001b[0m ) \u001b[38;5;241m-\u001b[39m\u001b[38;5;241m>\u001b[39m DataFrame \u001b[38;5;241m|\u001b[39m Series:\n\u001b[1;32m   4798\u001b[0m \u001b[38;5;250m    \u001b[39m\u001b[38;5;124;03m\"\"\"\u001b[39;00m\n\u001b[1;32m   4799\u001b[0m \u001b[38;5;124;03m    Invoke function on values of Series.\u001b[39;00m\n\u001b[1;32m   4800\u001b[0m \n\u001b[0;32m   (...)\u001b[0m\n\u001b[1;32m   4915\u001b[0m \u001b[38;5;124;03m    dtype: float64\u001b[39;00m\n\u001b[1;32m   4916\u001b[0m \u001b[38;5;124;03m    \"\"\"\u001b[39;00m\n\u001b[0;32m-> 4917\u001b[0m     \u001b[38;5;28;01mreturn\u001b[39;00m \u001b[43mSeriesApply\u001b[49m\u001b[43m(\u001b[49m\n\u001b[1;32m   4918\u001b[0m \u001b[43m        \u001b[49m\u001b[38;5;28;43mself\u001b[39;49m\u001b[43m,\u001b[49m\n\u001b[1;32m   4919\u001b[0m \u001b[43m        \u001b[49m\u001b[43mfunc\u001b[49m\u001b[43m,\u001b[49m\n\u001b[1;32m   4920\u001b[0m \u001b[43m        \u001b[49m\u001b[43mconvert_dtype\u001b[49m\u001b[38;5;241;43m=\u001b[39;49m\u001b[43mconvert_dtype\u001b[49m\u001b[43m,\u001b[49m\n\u001b[1;32m   4921\u001b[0m \u001b[43m        \u001b[49m\u001b[43mby_row\u001b[49m\u001b[38;5;241;43m=\u001b[39;49m\u001b[43mby_row\u001b[49m\u001b[43m,\u001b[49m\n\u001b[1;32m   4922\u001b[0m \u001b[43m        \u001b[49m\u001b[43margs\u001b[49m\u001b[38;5;241;43m=\u001b[39;49m\u001b[43margs\u001b[49m\u001b[43m,\u001b[49m\n\u001b[1;32m   4923\u001b[0m \u001b[43m        \u001b[49m\u001b[43mkwargs\u001b[49m\u001b[38;5;241;43m=\u001b[39;49m\u001b[43mkwargs\u001b[49m\u001b[43m,\u001b[49m\n\u001b[1;32m   4924\u001b[0m \u001b[43m    \u001b[49m\u001b[43m)\u001b[49m\u001b[38;5;241;43m.\u001b[39;49m\u001b[43mapply\u001b[49m\u001b[43m(\u001b[49m\u001b[43m)\u001b[49m\n",
      "File \u001b[0;32m~/neuro-venv/lib/python3.9/site-packages/pandas/core/apply.py:1427\u001b[0m, in \u001b[0;36mSeriesApply.apply\u001b[0;34m(self)\u001b[0m\n\u001b[1;32m   1424\u001b[0m     \u001b[38;5;28;01mreturn\u001b[39;00m \u001b[38;5;28mself\u001b[39m\u001b[38;5;241m.\u001b[39mapply_compat()\n\u001b[1;32m   1426\u001b[0m \u001b[38;5;66;03m# self.func is Callable\u001b[39;00m\n\u001b[0;32m-> 1427\u001b[0m \u001b[38;5;28;01mreturn\u001b[39;00m \u001b[38;5;28;43mself\u001b[39;49m\u001b[38;5;241;43m.\u001b[39;49m\u001b[43mapply_standard\u001b[49m\u001b[43m(\u001b[49m\u001b[43m)\u001b[49m\n",
      "File \u001b[0;32m~/neuro-venv/lib/python3.9/site-packages/pandas/core/apply.py:1507\u001b[0m, in \u001b[0;36mSeriesApply.apply_standard\u001b[0;34m(self)\u001b[0m\n\u001b[1;32m   1501\u001b[0m \u001b[38;5;66;03m# row-wise access\u001b[39;00m\n\u001b[1;32m   1502\u001b[0m \u001b[38;5;66;03m# apply doesn't have a `na_action` keyword and for backward compat reasons\u001b[39;00m\n\u001b[1;32m   1503\u001b[0m \u001b[38;5;66;03m# we need to give `na_action=\"ignore\"` for categorical data.\u001b[39;00m\n\u001b[1;32m   1504\u001b[0m \u001b[38;5;66;03m# TODO: remove the `na_action=\"ignore\"` when that default has been changed in\u001b[39;00m\n\u001b[1;32m   1505\u001b[0m \u001b[38;5;66;03m#  Categorical (GH51645).\u001b[39;00m\n\u001b[1;32m   1506\u001b[0m action \u001b[38;5;241m=\u001b[39m \u001b[38;5;124m\"\u001b[39m\u001b[38;5;124mignore\u001b[39m\u001b[38;5;124m\"\u001b[39m \u001b[38;5;28;01mif\u001b[39;00m \u001b[38;5;28misinstance\u001b[39m(obj\u001b[38;5;241m.\u001b[39mdtype, CategoricalDtype) \u001b[38;5;28;01melse\u001b[39;00m \u001b[38;5;28;01mNone\u001b[39;00m\n\u001b[0;32m-> 1507\u001b[0m mapped \u001b[38;5;241m=\u001b[39m \u001b[43mobj\u001b[49m\u001b[38;5;241;43m.\u001b[39;49m\u001b[43m_map_values\u001b[49m\u001b[43m(\u001b[49m\n\u001b[1;32m   1508\u001b[0m \u001b[43m    \u001b[49m\u001b[43mmapper\u001b[49m\u001b[38;5;241;43m=\u001b[39;49m\u001b[43mcurried\u001b[49m\u001b[43m,\u001b[49m\u001b[43m \u001b[49m\u001b[43mna_action\u001b[49m\u001b[38;5;241;43m=\u001b[39;49m\u001b[43maction\u001b[49m\u001b[43m,\u001b[49m\u001b[43m \u001b[49m\u001b[43mconvert\u001b[49m\u001b[38;5;241;43m=\u001b[39;49m\u001b[38;5;28;43mself\u001b[39;49m\u001b[38;5;241;43m.\u001b[39;49m\u001b[43mconvert_dtype\u001b[49m\n\u001b[1;32m   1509\u001b[0m \u001b[43m\u001b[49m\u001b[43m)\u001b[49m\n\u001b[1;32m   1511\u001b[0m \u001b[38;5;28;01mif\u001b[39;00m \u001b[38;5;28mlen\u001b[39m(mapped) \u001b[38;5;129;01mand\u001b[39;00m \u001b[38;5;28misinstance\u001b[39m(mapped[\u001b[38;5;241m0\u001b[39m], ABCSeries):\n\u001b[1;32m   1512\u001b[0m     \u001b[38;5;66;03m# GH#43986 Need to do list(mapped) in order to get treated as nested\u001b[39;00m\n\u001b[1;32m   1513\u001b[0m     \u001b[38;5;66;03m#  See also GH#25959 regarding EA support\u001b[39;00m\n\u001b[1;32m   1514\u001b[0m     \u001b[38;5;28;01mreturn\u001b[39;00m obj\u001b[38;5;241m.\u001b[39m_constructor_expanddim(\u001b[38;5;28mlist\u001b[39m(mapped), index\u001b[38;5;241m=\u001b[39mobj\u001b[38;5;241m.\u001b[39mindex)\n",
      "File \u001b[0;32m~/neuro-venv/lib/python3.9/site-packages/pandas/core/base.py:921\u001b[0m, in \u001b[0;36mIndexOpsMixin._map_values\u001b[0;34m(self, mapper, na_action, convert)\u001b[0m\n\u001b[1;32m    918\u001b[0m \u001b[38;5;28;01mif\u001b[39;00m \u001b[38;5;28misinstance\u001b[39m(arr, ExtensionArray):\n\u001b[1;32m    919\u001b[0m     \u001b[38;5;28;01mreturn\u001b[39;00m arr\u001b[38;5;241m.\u001b[39mmap(mapper, na_action\u001b[38;5;241m=\u001b[39mna_action)\n\u001b[0;32m--> 921\u001b[0m \u001b[38;5;28;01mreturn\u001b[39;00m \u001b[43malgorithms\u001b[49m\u001b[38;5;241;43m.\u001b[39;49m\u001b[43mmap_array\u001b[49m\u001b[43m(\u001b[49m\u001b[43marr\u001b[49m\u001b[43m,\u001b[49m\u001b[43m \u001b[49m\u001b[43mmapper\u001b[49m\u001b[43m,\u001b[49m\u001b[43m \u001b[49m\u001b[43mna_action\u001b[49m\u001b[38;5;241;43m=\u001b[39;49m\u001b[43mna_action\u001b[49m\u001b[43m,\u001b[49m\u001b[43m \u001b[49m\u001b[43mconvert\u001b[49m\u001b[38;5;241;43m=\u001b[39;49m\u001b[43mconvert\u001b[49m\u001b[43m)\u001b[49m\n",
      "File \u001b[0;32m~/neuro-venv/lib/python3.9/site-packages/pandas/core/algorithms.py:1743\u001b[0m, in \u001b[0;36mmap_array\u001b[0;34m(arr, mapper, na_action, convert)\u001b[0m\n\u001b[1;32m   1741\u001b[0m values \u001b[38;5;241m=\u001b[39m arr\u001b[38;5;241m.\u001b[39mastype(\u001b[38;5;28mobject\u001b[39m, copy\u001b[38;5;241m=\u001b[39m\u001b[38;5;28;01mFalse\u001b[39;00m)\n\u001b[1;32m   1742\u001b[0m \u001b[38;5;28;01mif\u001b[39;00m na_action \u001b[38;5;129;01mis\u001b[39;00m \u001b[38;5;28;01mNone\u001b[39;00m:\n\u001b[0;32m-> 1743\u001b[0m     \u001b[38;5;28;01mreturn\u001b[39;00m \u001b[43mlib\u001b[49m\u001b[38;5;241;43m.\u001b[39;49m\u001b[43mmap_infer\u001b[49m\u001b[43m(\u001b[49m\u001b[43mvalues\u001b[49m\u001b[43m,\u001b[49m\u001b[43m \u001b[49m\u001b[43mmapper\u001b[49m\u001b[43m,\u001b[49m\u001b[43m \u001b[49m\u001b[43mconvert\u001b[49m\u001b[38;5;241;43m=\u001b[39;49m\u001b[43mconvert\u001b[49m\u001b[43m)\u001b[49m\n\u001b[1;32m   1744\u001b[0m \u001b[38;5;28;01melse\u001b[39;00m:\n\u001b[1;32m   1745\u001b[0m     \u001b[38;5;28;01mreturn\u001b[39;00m lib\u001b[38;5;241m.\u001b[39mmap_infer_mask(\n\u001b[1;32m   1746\u001b[0m         values, mapper, mask\u001b[38;5;241m=\u001b[39misna(values)\u001b[38;5;241m.\u001b[39mview(np\u001b[38;5;241m.\u001b[39muint8), convert\u001b[38;5;241m=\u001b[39mconvert\n\u001b[1;32m   1747\u001b[0m     )\n",
      "File \u001b[0;32mlib.pyx:2972\u001b[0m, in \u001b[0;36mpandas._libs.lib.map_infer\u001b[0;34m()\u001b[0m\n",
      "Cell \u001b[0;32mIn[66], line 5\u001b[0m, in \u001b[0;36mconvert_str_to_list\u001b[0;34m(val)\u001b[0m\n\u001b[1;32m      3\u001b[0m \u001b[38;5;28;01mdef\u001b[39;00m\u001b[38;5;250m \u001b[39m\u001b[38;5;21mconvert_str_to_list\u001b[39m(val):\n\u001b[1;32m      4\u001b[0m     \u001b[38;5;28;01mif\u001b[39;00m \u001b[38;5;28misinstance\u001b[39m(val, \u001b[38;5;28mstr\u001b[39m):  \u001b[38;5;66;03m# Check if value is a string\u001b[39;00m\n\u001b[0;32m----> 5\u001b[0m         \u001b[38;5;28;01mreturn\u001b[39;00m \u001b[43mast\u001b[49m\u001b[38;5;241;43m.\u001b[39;49m\u001b[43mliteral_eval\u001b[49m\u001b[43m(\u001b[49m\u001b[43mval\u001b[49m\u001b[43m)\u001b[49m  \u001b[38;5;66;03m# Convert string to list\u001b[39;00m\n\u001b[1;32m      6\u001b[0m     \u001b[38;5;28;01mreturn\u001b[39;00m val\n",
      "File \u001b[0;32m/Library/Developer/CommandLineTools/Library/Frameworks/Python3.framework/Versions/3.9/lib/python3.9/ast.py:105\u001b[0m, in \u001b[0;36mliteral_eval\u001b[0;34m(node_or_string)\u001b[0m\n\u001b[1;32m    103\u001b[0m                 \u001b[38;5;28;01mreturn\u001b[39;00m left \u001b[38;5;241m-\u001b[39m right\n\u001b[1;32m    104\u001b[0m     \u001b[38;5;28;01mreturn\u001b[39;00m _convert_signed_num(node)\n\u001b[0;32m--> 105\u001b[0m \u001b[38;5;28;01mreturn\u001b[39;00m \u001b[43m_convert\u001b[49m\u001b[43m(\u001b[49m\u001b[43mnode_or_string\u001b[49m\u001b[43m)\u001b[49m\n",
      "File \u001b[0;32m/Library/Developer/CommandLineTools/Library/Frameworks/Python3.framework/Versions/3.9/lib/python3.9/ast.py:85\u001b[0m, in \u001b[0;36mliteral_eval.<locals>._convert\u001b[0;34m(node)\u001b[0m\n\u001b[1;32m     83\u001b[0m     \u001b[38;5;28;01mreturn\u001b[39;00m \u001b[38;5;28mtuple\u001b[39m(\u001b[38;5;28mmap\u001b[39m(_convert, node\u001b[38;5;241m.\u001b[39melts))\n\u001b[1;32m     84\u001b[0m \u001b[38;5;28;01melif\u001b[39;00m \u001b[38;5;28misinstance\u001b[39m(node, List):\n\u001b[0;32m---> 85\u001b[0m     \u001b[38;5;28;01mreturn\u001b[39;00m \u001b[38;5;28;43mlist\u001b[39;49m\u001b[43m(\u001b[49m\u001b[38;5;28;43mmap\u001b[39;49m\u001b[43m(\u001b[49m\u001b[43m_convert\u001b[49m\u001b[43m,\u001b[49m\u001b[43m \u001b[49m\u001b[43mnode\u001b[49m\u001b[38;5;241;43m.\u001b[39;49m\u001b[43melts\u001b[49m\u001b[43m)\u001b[49m\u001b[43m)\u001b[49m\n\u001b[1;32m     86\u001b[0m \u001b[38;5;28;01melif\u001b[39;00m \u001b[38;5;28misinstance\u001b[39m(node, Set):\n\u001b[1;32m     87\u001b[0m     \u001b[38;5;28;01mreturn\u001b[39;00m \u001b[38;5;28mset\u001b[39m(\u001b[38;5;28mmap\u001b[39m(_convert, node\u001b[38;5;241m.\u001b[39melts))\n",
      "File \u001b[0;32m/Library/Developer/CommandLineTools/Library/Frameworks/Python3.framework/Versions/3.9/lib/python3.9/ast.py:104\u001b[0m, in \u001b[0;36mliteral_eval.<locals>._convert\u001b[0;34m(node)\u001b[0m\n\u001b[1;32m    102\u001b[0m         \u001b[38;5;28;01melse\u001b[39;00m:\n\u001b[1;32m    103\u001b[0m             \u001b[38;5;28;01mreturn\u001b[39;00m left \u001b[38;5;241m-\u001b[39m right\n\u001b[0;32m--> 104\u001b[0m \u001b[38;5;28;01mreturn\u001b[39;00m \u001b[43m_convert_signed_num\u001b[49m\u001b[43m(\u001b[49m\u001b[43mnode\u001b[49m\u001b[43m)\u001b[49m\n",
      "File \u001b[0;32m/Library/Developer/CommandLineTools/Library/Frameworks/Python3.framework/Versions/3.9/lib/python3.9/ast.py:78\u001b[0m, in \u001b[0;36mliteral_eval.<locals>._convert_signed_num\u001b[0;34m(node)\u001b[0m\n\u001b[1;32m     76\u001b[0m     \u001b[38;5;28;01melse\u001b[39;00m:\n\u001b[1;32m     77\u001b[0m         \u001b[38;5;28;01mreturn\u001b[39;00m \u001b[38;5;241m-\u001b[39m operand\n\u001b[0;32m---> 78\u001b[0m \u001b[38;5;28;01mreturn\u001b[39;00m \u001b[43m_convert_num\u001b[49m\u001b[43m(\u001b[49m\u001b[43mnode\u001b[49m\u001b[43m)\u001b[49m\n",
      "File \u001b[0;32m/Library/Developer/CommandLineTools/Library/Frameworks/Python3.framework/Versions/3.9/lib/python3.9/ast.py:69\u001b[0m, in \u001b[0;36mliteral_eval.<locals>._convert_num\u001b[0;34m(node)\u001b[0m\n\u001b[1;32m     67\u001b[0m \u001b[38;5;28;01mdef\u001b[39;00m\u001b[38;5;250m \u001b[39m\u001b[38;5;21m_convert_num\u001b[39m(node):\n\u001b[1;32m     68\u001b[0m     \u001b[38;5;28;01mif\u001b[39;00m \u001b[38;5;129;01mnot\u001b[39;00m \u001b[38;5;28misinstance\u001b[39m(node, Constant) \u001b[38;5;129;01mor\u001b[39;00m \u001b[38;5;28mtype\u001b[39m(node\u001b[38;5;241m.\u001b[39mvalue) \u001b[38;5;129;01mnot\u001b[39;00m \u001b[38;5;129;01min\u001b[39;00m (\u001b[38;5;28mint\u001b[39m, \u001b[38;5;28mfloat\u001b[39m, \u001b[38;5;28mcomplex\u001b[39m):\n\u001b[0;32m---> 69\u001b[0m         \u001b[43m_raise_malformed_node\u001b[49m\u001b[43m(\u001b[49m\u001b[43mnode\u001b[49m\u001b[43m)\u001b[49m\n\u001b[1;32m     70\u001b[0m     \u001b[38;5;28;01mreturn\u001b[39;00m node\u001b[38;5;241m.\u001b[39mvalue\n",
      "File \u001b[0;32m/Library/Developer/CommandLineTools/Library/Frameworks/Python3.framework/Versions/3.9/lib/python3.9/ast.py:66\u001b[0m, in \u001b[0;36mliteral_eval.<locals>._raise_malformed_node\u001b[0;34m(node)\u001b[0m\n\u001b[1;32m     65\u001b[0m \u001b[38;5;28;01mdef\u001b[39;00m\u001b[38;5;250m \u001b[39m\u001b[38;5;21m_raise_malformed_node\u001b[39m(node):\n\u001b[0;32m---> 66\u001b[0m     \u001b[38;5;28;01mraise\u001b[39;00m \u001b[38;5;167;01mValueError\u001b[39;00m(\u001b[38;5;124mf\u001b[39m\u001b[38;5;124m'\u001b[39m\u001b[38;5;124mmalformed node or string: \u001b[39m\u001b[38;5;132;01m{\u001b[39;00mnode\u001b[38;5;132;01m!r}\u001b[39;00m\u001b[38;5;124m'\u001b[39m)\n",
      "\u001b[0;31mValueError\u001b[0m: malformed node or string: <ast.Call object at 0x176fda130>"
     ]
    }
   ],
   "source": [
    "import ast\n",
    "\n",
    "def convert_str_to_list(val):\n",
    "    if isinstance(val, str):  # Check if value is a string\n",
    "        return ast.literal_eval(val)  # Convert string to list\n",
    "    return val  # Otherwise, keep as is\n",
    "\n",
    "# Apply conversion to \"Window Avg\"\n",
    "for \n",
    "alz_df[\"Window Avg\"] = alz_df[\"Window Avg\"].apply(convert_str_to_list)\n",
    "control_df[\"Window Avg\"] = control_df[\"Window Avg\"].apply(convert_str_to_list)\n"
   ]
  },
  {
   "cell_type": "code",
   "execution_count": 64,
   "id": "0782ff15-9a38-481e-a271-318cc6901d66",
   "metadata": {},
   "outputs": [
    {
     "name": "stdout",
     "output_type": "stream",
     "text": [
      "[\n",
      "[np.float64(5.607240819161222e-07), np.float64(2.136206557103639e-07), np.float64(1.4815955569749812e-07), np.float64(1.1329436172684679e-07), np.float64(7.296527914043617e-08), np.float64(6.059866918225963e-08), np.float64(1.0361302410499309e-07), np.float64(2.3086230197239276e-07), np.float64(1.0552505598702842e-07), np.float64(8.896397838702983e-08), np.float64(6.57345729309926e-08), np.float64(6.71105777754649e-08), np.float64(1.6631586295502842e-07), np.float64(1.5266041712409792e-07), np.float64(5.313955773328878e-07), np.float64(6.700614808615797e-07), np.float64(3.464982345643528e-07), np.float64(1.0609118614977464e-06), np.float64(6.268996717597441e-07), np.float64(9.355173677896289e-08), np.float64(1.194314537437679e-07), np.float64(2.9432058402460086e-07), np.float64(3.0417203518634765e-07), np.float64(1.0967247840000785e-07), np.float64(9.184340855409266e-08), np.float64(7.298744113820288e-08), np.float64(6.505383470440462e-08), np.float64(1.0417842890080257e-07), np.float64(9.730210493796052e-08), np.float64(8.995792096949221e-08), np.float64(1.1309142334809496e-07), np.float64(9.147278119264863e-08), np.float64(8.028007894945357e-08), np.float64(3.910675254052024e-08), np.float64(4.7616241572963455e-08), np.float64(9.23676312891766e-08), np.float64(8.666777071632293e-08), np.float64(5.3720467669636515e-08), np.float64(4.507919984792642e-08), np.float64(1.1321679129786101e-07), np.float64(1.7134046570440064e-07), np.float64(1.6598388618684093e-07), np.float64(1.786538011475921e-07), np.float64(9.937227590877972e-08), np.float64(1.1079222912237629e-07), np.float64(5.701505036966723e-08), np.float64(1.6285184246608622e-07), np.float64(2.950901391419497e-07), np.float64(2.0900590119487602e-07), np.float64(3.714895620834422e-08), np.float64(8.150257207750976e-08), np.float64(1.7322572179818695e-07), np.float64(1.615746906403857e-07), np.float64(9.339053900329418e-08), np.float64(1.0192356735602678e-07), np.float64(1.4013672028456106e-07), np.float64(1.2655810924151761e-07), np.float64(9.5717174655695e-08), np.float64(6.661646742665388e-08), np.float64(7.161302034412327e-08), np.float64(1.0078871209987669e-07), np.float64(1.369200117630136e-07), np.float64(3.8076737937546335e-08), np.float64(5.8321731837877356e-08), np.float64(2.0886283167660063e-07), np.float64(1.7575173589547377e-07), np.float64(8.186280207961873e-08), np.float64(8.773530509836535e-08), np.float64(1.5378393138343645e-07), np.float64(9.074100104641516e-08), np.float64(5.5669940046927997e-08), np.float64(1.4650860047217265e-07), np.float64(9.819941624475495e-08), np.float64(6.090608216198877e-08), np.float64(1.0806021805934127e-07), np.float64(1.3968804654776047e-07), np.float64(9.102628099562126e-08), np.float64(1.1182175848597998e-07), np.float64(1.5914366310003404e-07), np.float64(1.1715955067603573e-07), np.float64(2.2433873041984457e-07), np.float64(8.96747649615636e-08), np.float64(6.144458463630328e-08), np.float64(3.9812318315633575e-08), np.float64(1.5852073079760457e-07), np.float64(2.1469969523352075e-07), np.float64(1.3635998153757006e-07), np.float64(7.498666231541958e-08), np.float64(1.3314095994763452e-07), np.float64(1.1255107962679546e-07), np.float64(1.2926761280657716e-07), np.float64(2.75635736833488e-08), np.float64(4.405786056927057e-08), np.float64(4.929460753310411e-08), np.float64(7.413310236450972e-08), np.float64(1.303972355567492e-07), np.float64(1.4830776478117444e-07), np.float64(6.776808990364813e-08), np.float64(6.818346363295102e-08), np.float64(1.312909243840269e-07), np.float64(6.657484098887268e-08), np.float64(6.084498245539182e-08), np.float64(1.1277675589089176e-07), np.float64(1.1189994900003161e-07), np.float64(5.113166558816199e-08), np.float64(4.7973985746389844e-08), np.float64(2.2167078805694526e-07), np.float64(1.9784805277790457e-07), np.float64(1.9363146387097977e-07), np.float64(1.5753238226422898e-07), np.float64(1.8423130369229969e-07), np.float64(1.2125609372633838e-07), np.float64(4.377611871201434e-08), np.float64(1.0934442551928199e-07), np.float64(1.2523243493706356e-07), np.float64(1.7910138885184286e-07), np.float64(1.8020659276579902e-07), np.float64(1.1930755083952332e-07), np.float64(5.2774626221715295e-08), np.float64(7.929769604201319e-08), np.float64(1.698481927062898e-07), np.float64(1.2998130328641555e-07), np.float64(8.161113022483322e-08), np.float64(6.036937159903933e-08), np.float64(4.958499458923528e-08), np.float64(8.176046025900657e-08), np.float64(2.0079649516916298e-07), np.float64(2.2460604887515964e-07), np.float64(1.30975951770066e-07), np.float64(2.093750725404066e-07), np.float64(2.0172592877218712e-07), np.float64(2.010597534053634e-07), np.float64(1.0069060001156879e-07), np.float64(4.917177211755964e-08), np.float64(1.0680142434206681e-07), np.float64(1.1079502423724064e-07), np.float64(4.6402523612856745e-08), np.float64(8.734956792301349e-08), np.float64(8.473614678419426e-08), np.float64(9.815888946389941e-08), np.float64(3.067216791361308e-07), np.float64(9.062100790800718e-08), np.float64(1.116810115803769e-07), np.float64(1.6398251911345958e-07), np.float64(1.2505902762565202e-07), np.float64(1.6971889617320083e-07), np.float64(1.0904482069449546e-07), np.float64(9.727863634602946e-08), np.float64(1.4009023974181218e-07), np.float64(1.2285739846970594e-07), np.float64(7.78541621309358e-08), np.float64(9.538360170340035e-08), np.float64(7.39536966226165e-08), np.float64(5.3029161665838e-08), np.float64(4.5752003907706304e-08), np.float64(5.686830912038066e-08), np.float64(7.40870460998532e-08), np.float64(6.83456194287282e-08), np.float64(7.132867423238382e-08), np.float64(8.162863595526567e-08), np.float64(1.6447015217627186e-07), np.float64(1.8231962987096365e-07), np.float64(1.0896348644695894e-07), np.float64(1.2290716394749755e-07), np.float64(1.1230352247768193e-07), np.float64(1.4051615569109357e-07), np.float64(1.1257908524259985e-07), np.float64(1.2600025010886806e-07), np.float64(6.319462326411411e-08), np.float64(1.3583534197291482e-07), np.float64(1.691689742069884e-07), np.float64(8.711900684829674e-08), np.float64(6.490766203260042e-08), np.float64(9.832678741190888e-08), np.float64(1.0240098337846565e-07), np.float64(7.600916834169622e-08), np.float64(1.3356011993485366e-07), np.float64(1.7394256083758297e-07), np.float64(4.148082180401503e-08), np.float64(1.614742005086262e-07), np.float64(7.210658124009996e-08), np.float64(7.044242890163051e-08), np.float64(1.0972240310677782e-07), np.float64(1.1021940366509745e-07), np.float64(2.808089664253183e-08), np.float64(9.096281560719527e-08), np.float64(9.982007501113861e-08), np.float64(1.4895409285126746e-07), np.float64(1.1550211554663101e-07), np.float64(7.32747280501856e-08), np.float64(7.044688329692676e-08), np.float64(8.720580494874432e-08), np.float64(9.020850440267347e-08), np.float64(5.165120069380701e-08), np.float64(8.551135654178944e-08), np.float64(6.886625133487074e-08), np.float64(3.297964150850746e-08), np.float64(6.466966112628067e-08), np.float64(1.1395872875761266e-07), np.float64(1.7704255898773925e-07), np.float64(9.183039193211586e-08), np.float64(7.59544544653993e-08), np.float64(3.016931015611235e-08), np.float64(9.310404740635567e-08), np.float64(1.0862434710828348e-07), np.float64(1.2530450031835043e-07), np.float64(6.027100110636398e-08), np.float64(9.94769707670747e-08), np.float64(1.3239131991220562e-07), np.float64(9.440422106703891e-08), np.float64(6.34390728950758e-08), np.float64(1.0826244654665693e-07), np.float64(1.5582079000865256e-07), np.float64(5.2146321764012636e-08), np.float64(2.590329576693545e-07), np.float64(1.909143062519545e-07), np.float64(1.1266043911143814e-07), np.float64(9.967020668123784e-08), np.float64(1.3573753438583232e-07), np.float64(9.845481347420822e-08), np.float64(4.694022520826149e-08), np.float64(5.2266332767401096e-08), np.float64(9.202367116772764e-08), np.float64(1.3122328180475875e-07), np.float64(1.576503210743546e-07), np.float64(1.7113366635968808e-07), np.float64(9.494797573251432e-08), np.float64(5.189053828914012e-08), np.float64(4.4946098867221537e-08), np.float64(1.2858234049067176e-07), np.float64(8.31350741891461e-08), np.float64(4.03207070396747e-08), np.float64(5.7323485389416776e-08), np.float64(9.16200528487559e-08), np.float64(9.323835395519444e-08), np.float64(1.0760301473222916e-07), np.float64(7.569396550864591e-08), np.float64(9.338528892248481e-08), np.float64(2.619738138087935e-07), np.float64(9.415979992938312e-08), np.float64(7.498639287693935e-08), np.float64(5.7271482125278124e-08), np.float64(1.5456596153484765e-07), np.float64(1.9843976515396938e-07), np.float64(6.501467213235696e-08), np.float64(5.618929285374719e-08), np.float64(7.403125099134713e-08), np.float64(2.192612667940875e-07), np.float64(2.1806873674970258e-07), np.float64(9.068708975658894e-08), np.float64(1.3005841801710908e-07), np.float64(1.6403167111621718e-07), np.float64(5.517056945902725e-08), np.float64(8.94799393329445e-08), np.float64(1.1711039878742569e-07), np.float64(1.3084262806282332e-07), np.float64(6.597856046473862e-08), np.float64(1.0429291789597514e-07), np.float64(3.568009929989372e-07), np.float64(1.4227188524070418e-07), np.float64(7.895946228523564e-08), np.float64(1.7981933170807196e-07), np.float64(8.157855746411177e-08), np.float64(8.550287818302805e-08), np.float64(1.8049758168487801e-07), np.float64(9.731761103085013e-08), np.float64(6.57434766330972e-08), np.float64(5.333387159051023e-08), np.float64(8.917824038313467e-08), np.float64(7.15054335314202e-08), np.float64(7.952457996800459e-08), np.float64(1.0761421626241298e-07), np.float64(1.513530358306177e-07), np.float64(1.2025199822765729e-07), np.float64(8.58135675319802e-08), np.float64(6.810477061267954e-08), np.float64(6.059858768804012e-08), np.float64(7.272347616641476e-08), np.float64(1.1779957856505526e-07), np.float64(1.3478934190376615e-07), np.float64(6.125419421591099e-08), np.float64(5.6277507746620124e-08), np.float64(8.179653922317133e-08), np.float64(5.213205462782812e-08), np.float64(4.83914087785163e-08), np.float64(7.556424788530004e-08), np.float64(3.5165905080020716e-08), np.float64(8.432408352688054e-08), np.float64(1.0011399525183493e-07), np.float64(1.1215913673799041e-07), np.float64(6.074220140489458e-08), np.float64(3.2044146509176273e-07), np.float64(6.509682932197875e-08), np.float64(4.035214147268964e-08), np.float64(8.119509331090137e-08), np.float64(1.2373053532827643e-07), np.float64(2.534604863824805e-07), np.float64(2.0961619739848277e-07), np.float64(1.3108069868554876e-07), np.float64(1.0216070432565003e-06), np.float64(8.218424040711749e-07), np.float64(8.904789982574357e-07), np.float64(2.546214521495596e-07), np.float64(2.0555094682593132e-07), np.float64(7.291474852914941e-08), np.float64(7.25835750103963e-08), np.float64(7.458838966830667e-08), np.float64(9.505395562755409e-08), np.float64(3.223730144241353e-07), np.float64(2.894495367610335e-07), np.float64(2.8320434563428197e-07), np.float64(1.601887969057779e-07), np.float64(9.770988465140795e-07), np.float64(1.1694330340883756e-06), np.float64(1.8012780683268052e-07), np.float64(1.6130212843164768e-07), np.float64(1.3717501150602354e-07), np.float64(1.417320809999807e-07), np.float64(1.5336045733781403e-07), np.float64(2.8152934127540477e-07), np.float64(3.4907331133394103e-07), np.float64(2.840107922354098e-07), np.float64(6.399765046679452e-07), np.float64(1.3763969771117526e-07), np.float64(4.044064626837858e-07), np.float64(8.46221193319552e-08), np.float64(1.0178005519866344e-07), np.float64(1.4177110871306513e-07), np.float64(1.5582689259996145e-07), np.float64(3.8936757472697237e-08), np.float64(1.0523018926400255e-07), np.float64(6.977970122250344e-08), np.float64(1.1908734071692212e-07), np.float64(3.931582686153296e-08), np.float64(1.1996216372064585e-07), np.float64(1.2486386694354136e-07), np.float64(7.15000648579942e-08), np.float64(8.029683369192664e-08), np.float64(6.942353847465821e-08), np.float64(8.300150221826484e-08), np.float64(1.1835939384839305e-07), np.float64(1.0786079110516218e-07), np.float64(6.040235603221976e-08), np.float64(7.239959198842998e-08), np.float64(8.945673456189812e-08), np.float64(2.3726106892814152e-08), np.float64(9.760873162265085e-08), np.float64(1.3991809602628648e-07), np.float64(1.0044863692716485e-07), np.float64(1.8552807723584913e-07), np.float64(7.29900148862249e-08), np.float64(8.218749711802436e-08), np.float64(1.51457528653458e-06), np.float64(1.204355844570658e-06), np.float64(3.3797589067056094e-06), np.float64(1.0828512982014443e-06), np.float64(4.89413151356396e-07), np.float64(6.927267040909577e-08), np.float64(9.546792134271319e-08), np.float64(6.205034646646238e-08), np.float64(7.833717788856033e-08), np.float64(8.358978508508487e-08), np.float64(8.527195022325315e-08), np.float64(4.499353578855235e-08), np.float64(7.356939760274289e-08), np.float64(1.4901776262598316e-07), np.float64(1.429208169567453e-07), np.float64(1.3919204988627065e-07), np.float64(1.3175621879400548e-07), np.float64(1.0437542995626052e-07), np.float64(3.729353815766964e-08), np.float64(5.605888861840597e-08), np.float64(9.362085558167411e-08), np.float64(6.936080153923052e-08), np.float64(4.473375157011585e-08), np.float64(9.012036853828722e-08), np.float64(1.1885646189041802e-07), np.float64(9.147813966472493e-08), np.float64(1.202577467825305e-07), np.float64(9.843525223611124e-08), np.float64(6.541584620511413e-08), np.float64(7.72704196957222e-08), np.float64(9.63937993012445e-08), np.float64(1.6373388312510727e-07), np.float64(1.0497979719623171e-07), np.float64(1.0938136435127169e-07), np.float64(8.72137184007904e-08), np.float64(5.4236109719239414e-08), np.float64(6.358049616572581e-08), np.float64(1.4476405555948398e-07), np.float64(7.548451185460516e-08), np.float64(1.770894046354303e-07), np.float64(1.351864896783508e-07), np.float64(1.414028131419827e-07), np.float64(1.2430286385088322e-07), np.float64(4.24101040878802e-08), np.float64(6.454441664020198e-08), np.float64(1.5095133854786834e-07)]\n"
     ]
    }
   ],
   "source": [
    "print(alz_df.loc[('sub-001', 'Fp1', 'Delta'), \"Window Avg\"][0])\n",
    "print(alz_df.loc[('sub-001', 'Fp1', 'Delta'), \"Window Avg\"])"
   ]
  },
  {
   "cell_type": "code",
   "execution_count": 41,
   "id": "b626a7d2-1982-49a1-ab90-cbcf81822793",
   "metadata": {},
   "outputs": [],
   "source": [
    "# **I don't think this is needed **\n",
    "# participantsInfo = pd.read_table('./ds004504/participants.tsv')\n",
    "# #Getting all the groups\n",
    "# A_sub = participantsInfo[participantsInfo[\"Group\"] == \"A\"][\"participant_id\"].tolist()\n",
    "# C_sub = participantsInfo[participantsInfo[\"Group\"] == \"C\"][\"participant_id\"].tolist()\n",
    "# D_sub = participantsInfo[participantsInfo[\"Group\"] == \"F\"][\"participant_id\"].tolist()"
   ]
  },
  {
   "cell_type": "code",
   "execution_count": 42,
   "id": "cdda27ed-18cf-4fe1-b726-254656d140bf",
   "metadata": {},
   "outputs": [
    {
     "name": "stdout",
     "output_type": "stream",
     "text": [
      "Alzheimer's preview for sub-001\n",
      "                                                      Window Avg\n",
      "Channel Band                                                    \n",
      "Fp1     Delta  [np.float64(5.607240819161222e-07), np.float64...\n",
      "        Theta  [np.float64(1.4290601340850907e-08), np.float6...\n",
      "        Alpha  [np.float64(2.877208402057422e-09), np.float64...\n",
      "        Beta   [np.float64(5.046764330104262e-10), np.float64...\n",
      "Fp2     Delta  [np.float64(5.465781151565962e-07), np.float64...\n",
      "...                                                          ...\n",
      "Cz      Beta   [np.float64(3.205899994916665e-10), np.float64...\n",
      "Pz      Delta  [np.float64(1.5562185234722875e-07), np.float6...\n",
      "        Theta  [np.float64(4.1626502960822e-09), np.float64(7...\n",
      "        Alpha  [np.float64(1.2805820794756784e-09), np.float6...\n",
      "        Beta   [np.float64(3.338654724073159e-10), np.float64...\n",
      "\n",
      "[76 rows x 1 columns]\n",
      "Control's preview for sub-037\n",
      "                                                      Window Avg\n",
      "Channel Band                                                    \n",
      "Fp1     Delta  [np.float64(1.399211858791581e-07), np.float64...\n",
      "        Theta  [np.float64(5.264156814797366e-09), np.float64...\n",
      "        Alpha  [np.float64(5.356776410462786e-09), np.float64...\n",
      "        Beta   [np.float64(4.689518855964693e-10), np.float64...\n",
      "Fp2     Delta  [np.float64(1.4003143103977648e-07), np.float6...\n",
      "...                                                          ...\n",
      "Cz      Beta   [np.float64(4.069895513287249e-10), np.float64...\n",
      "Pz      Delta  [np.float64(1.3982056915618016e-07), np.float6...\n",
      "        Theta  [np.float64(5.4273945924617505e-09), np.float6...\n",
      "        Alpha  [np.float64(5.742606069813422e-09), np.float64...\n",
      "        Beta   [np.float64(4.032357868688876e-10), np.float64...\n",
      "\n",
      "[76 rows x 1 columns]\n"
     ]
    }
   ],
   "source": [
    "# Print Alzheimer's preview\n",
    "print(f\"Alzheimer's preview for sub-001\")\n",
    "print(alz_df.loc['sub-001']) \n",
    "print(f\"Control's preview for sub-037\")\n",
    "print(control_df.loc['sub-037'])\n",
    "# # Print Control preview\n",
    "# print(f\"Control preview {C_sub[0]}\")\n",
    "# print(groups[\"Control\"].loc[C_sub[0]])  \n",
    "\n",
    "# # Print Dementia preview\n",
    "# print(f\"Dementia preview {D_sub[0]}\")\n",
    "# print(groups[\"Dementia\"].loc[D_sub[0]])  "
   ]
  },
  {
   "cell_type": "code",
   "execution_count": 43,
   "id": "7c35cfbf-8594-4343-9be1-d896461259d0",
   "metadata": {},
   "outputs": [],
   "source": [
    "# Creating training and testing data. Going to set aside 2 subjects for each group \n"
   ]
  },
  {
   "cell_type": "code",
   "execution_count": 44,
   "id": "86586ff8-8d34-4a5f-85a8-2aa4255d00db",
   "metadata": {},
   "outputs": [
    {
     "name": "stdout",
     "output_type": "stream",
     "text": [
      "Train Alzheimer's subjects: ['sub-001', 'sub-002', 'sub-003', 'sub-004', 'sub-005', 'sub-006', 'sub-007', 'sub-008', 'sub-009', 'sub-010', 'sub-011', 'sub-012', 'sub-013', 'sub-014', 'sub-015', 'sub-016', 'sub-017', 'sub-018', 'sub-019', 'sub-020', 'sub-021', 'sub-022', 'sub-023', 'sub-024', 'sub-025', 'sub-026', 'sub-027', 'sub-028', 'sub-029', 'sub-030', 'sub-031', 'sub-032', 'sub-033']\n",
      "Test Alzheimer's subjects: ['sub-034', 'sub-035', 'sub-036']\n",
      "****************************************************************\n",
      "Train Control subjects: ['sub-037', 'sub-038', 'sub-039', 'sub-040', 'sub-041', 'sub-042', 'sub-043', 'sub-044', 'sub-045', 'sub-046', 'sub-047', 'sub-048', 'sub-049', 'sub-050', 'sub-051', 'sub-052', 'sub-053', 'sub-054', 'sub-055', 'sub-056', 'sub-057', 'sub-058', 'sub-059', 'sub-060', 'sub-061', 'sub-062']\n",
      "Test Control subjects: ['sub-063', 'sub-064', 'sub-065']\n"
     ]
    }
   ],
   "source": [
    "# Get unique subject IDs\n",
    "alz_subjects = alz_df.index.get_level_values(\"Subject\").unique()\n",
    "control_subjects = control_df.index.get_level_values(\"Subject\").unique()\n",
    "\n",
    "# Select the last 3 subjects for testing\n",
    "test_alz_subjects = alz_subjects[-3:]  # Last 3 subjects\n",
    "test_control_subjects = control_subjects[-3:]  # Last 3 subjects\n",
    "\n",
    "# Select training subjects (all except the last 3)\n",
    "train_alz_subjects = alz_subjects[:-3]\n",
    "train_control_subjects = control_subjects[:-3]\n",
    "\n",
    "# Split DataFrames\n",
    "alz_train_df = alz_df.loc[train_alz_subjects]\n",
    "alz_test_df = alz_df.loc[test_alz_subjects]\n",
    "\n",
    "control_train_df = control_df.loc[train_control_subjects]\n",
    "control_test_df = control_df.loc[test_control_subjects]\n",
    "\n",
    "# Print confirmation\n",
    "print(\"Train Alzheimer's subjects:\", train_alz_subjects.tolist())\n",
    "print(\"Test Alzheimer's subjects:\", test_alz_subjects.tolist())\n",
    "print(\"*\"*64)\n",
    "print(\"Train Control subjects:\", train_control_subjects.tolist())\n",
    "print(\"Test Control subjects:\", test_control_subjects.tolist())\n"
   ]
  },
  {
   "cell_type": "code",
   "execution_count": 48,
   "id": "f602a3ba-2a6c-4da3-9d9b-54ecee41129c",
   "metadata": {},
   "outputs": [
    {
     "name": "stdout",
     "output_type": "stream",
     "text": [
      "                                                      Window Avg\n",
      "Channel Band                                                    \n",
      "Fp1     Delta  [np.float64(5.607240819161222e-07), np.float64...\n",
      "        Theta  [np.float64(1.4290601340850907e-08), np.float6...\n",
      "        Alpha  [np.float64(2.877208402057422e-09), np.float64...\n",
      "        Beta   [np.float64(5.046764330104262e-10), np.float64...\n",
      "Fp2     Delta  [np.float64(5.465781151565962e-07), np.float64...\n",
      "                                                      Window Avg\n",
      "Channel Band                                                    \n",
      "Fp1     Delta  [np.float64(5.607240819161222e-07), np.float64...\n",
      "        Theta  [np.float64(1.4290601340850907e-08), np.float6...\n",
      "        Alpha  [np.float64(2.877208402057422e-09), np.float64...\n",
      "        Beta   [np.float64(5.046764330104262e-10), np.float64...\n",
      "Fp2     Delta  [np.float64(5.465781151565962e-07), np.float64...\n",
      "                                                      Window Avg\n",
      "Channel Band                                                    \n",
      "Fp1     Delta  [np.float64(1.399211858791581e-07), np.float64...\n",
      "        Theta  [np.float64(5.264156814797366e-09), np.float64...\n",
      "        Alpha  [np.float64(5.356776410462786e-09), np.float64...\n",
      "        Beta   [np.float64(4.689518855964693e-10), np.float64...\n",
      "Fp2     Delta  [np.float64(1.4003143103977648e-07), np.float6...\n",
      "...                                                          ...\n",
      "Cz      Beta   [np.float64(2.5333883477751846e-10), np.float6...\n",
      "Pz      Delta  [np.float64(5.5743605895108555e-08), np.float6...\n",
      "        Theta  [np.float64(6.312865358958998e-09), np.float64...\n",
      "        Alpha  [np.float64(5.920856085702661e-09), np.float64...\n",
      "        Beta   [np.float64(3.726237097030597e-10), np.float64...\n",
      "\n",
      "[1976 rows x 1 columns]\n",
      "                                                      Window Avg\n",
      "Channel Band                                                    \n",
      "Fp1     Delta  [np.float64(1.399211858791581e-07), np.float64...\n",
      "        Theta  [np.float64(5.264156814797366e-09), np.float64...\n",
      "        Alpha  [np.float64(5.356776410462786e-09), np.float64...\n",
      "        Beta   [np.float64(4.689518855964693e-10), np.float64...\n",
      "Fp2     Delta  [np.float64(1.4003143103977648e-07), np.float6...\n",
      "...                                                          ...\n",
      "Cz      Beta   [np.float64(2.5333883477751846e-10), np.float6...\n",
      "Pz      Delta  [np.float64(5.5743605895108555e-08), np.float6...\n",
      "        Theta  [np.float64(6.312865358958998e-09), np.float64...\n",
      "        Alpha  [np.float64(5.920856085702661e-09), np.float64...\n",
      "        Beta   [np.float64(3.726237097030597e-10), np.float64...\n",
      "\n",
      "[1976 rows x 1 columns]\n"
     ]
    }
   ],
   "source": [
    "# Remove subject from index, but keep channel and band\n",
    "alz_combined = alz_train_df.reset_index(level=\"Subject\", drop=True)\n",
    "control_combined = control_train_df.reset_index(level=\"Subject\", drop=True)\n",
    "\n",
    "\n",
    "# Print results\n",
    "print(alz_combined.head())\n",
    "print(alz_combined.head())\n",
    "print(control_combined)\n",
    "print(control_combined) #check that all the channels are here , looks like they got moved"
   ]
  },
  {
   "cell_type": "code",
   "execution_count": 55,
   "id": "d2a40a4f-db48-46d8-b054-4465625425bc",
   "metadata": {},
   "outputs": [
    {
     "name": "stdout",
     "output_type": "stream",
     "text": [
      "                                                      Window Avg\n",
      "Channel Band                                                    \n",
      "Fp1     Delta  [np.float64(5.607240819161222e-07), np.float64...\n",
      "        Theta  [np.float64(1.4290601340850907e-08), np.float6...\n",
      "        Alpha  [np.float64(2.877208402057422e-09), np.float64...\n",
      "        Beta   [np.float64(5.046764330104262e-10), np.float64...\n",
      "Fp2     Delta  [np.float64(5.465781151565962e-07), np.float64...\n",
      "                                                      Window Avg\n",
      "Channel Band                                                    \n",
      "Fp1     Delta  [np.float64(5.607240819161222e-07), np.float64...\n",
      "        Theta  [np.float64(1.4290601340850907e-08), np.float6...\n",
      "        Alpha  [np.float64(2.877208402057422e-09), np.float64...\n",
      "        Beta   [np.float64(5.046764330104262e-10), np.float64...\n",
      "Fp2     Delta  [np.float64(5.465781151565962e-07), np.float64...\n",
      "                                                      Window Avg\n",
      "Channel Band                                                    \n",
      "Fp1     Delta  [np.float64(1.399211858791581e-07), np.float64...\n",
      "        Theta  [np.float64(5.264156814797366e-09), np.float64...\n",
      "        Alpha  [np.float64(5.356776410462786e-09), np.float64...\n",
      "        Beta   [np.float64(4.689518855964693e-10), np.float64...\n",
      "Fp2     Delta  [np.float64(1.4003143103977648e-07), np.float6...\n",
      "...                                                          ...\n",
      "Cz      Beta   [np.float64(2.5333883477751846e-10), np.float6...\n",
      "Pz      Delta  [np.float64(5.5743605895108555e-08), np.float6...\n",
      "        Theta  [np.float64(6.312865358958998e-09), np.float64...\n",
      "        Alpha  [np.float64(5.920856085702661e-09), np.float64...\n",
      "        Beta   [np.float64(3.726237097030597e-10), np.float64...\n",
      "\n",
      "[1976 rows x 1 columns]\n",
      "                                                      Window Avg\n",
      "Channel Band                                                    \n",
      "Fp1     Delta  [np.float64(1.399211858791581e-07), np.float64...\n",
      "        Theta  [np.float64(5.264156814797366e-09), np.float64...\n",
      "        Alpha  [np.float64(5.356776410462786e-09), np.float64...\n",
      "        Beta   [np.float64(4.689518855964693e-10), np.float64...\n",
      "Fp2     Delta  [np.float64(1.4003143103977648e-07), np.float6...\n",
      "...                                                          ...\n",
      "Cz      Beta   [np.float64(2.5333883477751846e-10), np.float6...\n",
      "Pz      Delta  [np.float64(5.5743605895108555e-08), np.float6...\n",
      "        Theta  [np.float64(6.312865358958998e-09), np.float64...\n",
      "        Alpha  [np.float64(5.920856085702661e-09), np.float64...\n",
      "        Beta   [np.float64(3.726237097030597e-10), np.float64...\n",
      "\n",
      "[1976 rows x 1 columns]\n"
     ]
    }
   ],
   "source": [
    "alz_combined[\"Window Avg\"] = alz_combined[\"Window Avg\"].apply(lambda x: float(x) if isinstance(x, (list, np.ndarray)) and len(x) == 1 else x)\n",
    "control_combined[\"Window Avg\"] = control_combined[\"Window Avg\"].apply(lambda x: float(x) if isinstance(x, (list, np.ndarray)) and len(x) == 1 else x)\n",
    "\n",
    "print(alz_combined.head())\n",
    "print(alz_combined.head())\n",
    "print(control_combined)\n",
    "print(control_combined) #check that all the channels are here , looks like they got moved"
   ]
  },
  {
   "cell_type": "code",
   "execution_count": 56,
   "id": "9db00b3e-4229-415d-ad0a-4a4b8f67c9b9",
   "metadata": {},
   "outputs": [
    {
     "ename": "ValueError",
     "evalue": "could not convert string to float: '[np.float64(5.607240819161222e-07), np.float64(2.136206557103639e-07), np.float64(1.4815955569749812e-07), np.float64(1.1329436172684679e-07), np.float64(7.296527914043617e-08), np.float64(6.059866918225963e-08), np.float64(1.0361302410499309e-07), np.float64(2.3086230197239276e-07), np.float64(1.0552505598702842e-07), np.float64(8.896397838702983e-08), np.float64(6.57345729309926e-08), np.float64(6.71105777754649e-08), np.float64(1.6631586295502842e-07), np.float64(1.5266041712409792e-07), np.float64(5.313955773328878e-07), np.float64(6.700614808615797e-07), np.float64(3.464982345643528e-07), np.float64(1.0609118614977464e-06), np.float64(6.268996717597441e-07), np.float64(9.355173677896289e-08), np.float64(1.194314537437679e-07), np.float64(2.9432058402460086e-07), np.float64(3.0417203518634765e-07), np.float64(1.0967247840000785e-07), np.float64(9.184340855409266e-08), np.float64(7.298744113820288e-08), np.float64(6.505383470440462e-08), np.float64(1.0417842890080257e-07), np.float64(9.730210493796052e-08), np.float64(8.995792096949221e-08), np.float64(1.1309142334809496e-07), np.float64(9.147278119264863e-08), np.float64(8.028007894945357e-08), np.float64(3.910675254052024e-08), np.float64(4.7616241572963455e-08), np.float64(9.23676312891766e-08), np.float64(8.666777071632293e-08), np.float64(5.3720467669636515e-08), np.float64(4.507919984792642e-08), np.float64(1.1321679129786101e-07), np.float64(1.7134046570440064e-07), np.float64(1.6598388618684093e-07), np.float64(1.786538011475921e-07), np.float64(9.937227590877972e-08), np.float64(1.1079222912237629e-07), np.float64(5.701505036966723e-08), np.float64(1.6285184246608622e-07), np.float64(2.950901391419497e-07), np.float64(2.0900590119487602e-07), np.float64(3.714895620834422e-08), np.float64(8.150257207750976e-08), np.float64(1.7322572179818695e-07), np.float64(1.615746906403857e-07), np.float64(9.339053900329418e-08), np.float64(1.0192356735602678e-07), np.float64(1.4013672028456106e-07), np.float64(1.2655810924151761e-07), np.float64(9.5717174655695e-08), np.float64(6.661646742665388e-08), np.float64(7.161302034412327e-08), np.float64(1.0078871209987669e-07), np.float64(1.369200117630136e-07), np.float64(3.8076737937546335e-08), np.float64(5.8321731837877356e-08), np.float64(2.0886283167660063e-07), np.float64(1.7575173589547377e-07), np.float64(8.186280207961873e-08), np.float64(8.773530509836535e-08), np.float64(1.5378393138343645e-07), np.float64(9.074100104641516e-08), np.float64(5.5669940046927997e-08), np.float64(1.4650860047217265e-07), np.float64(9.819941624475495e-08), np.float64(6.090608216198877e-08), np.float64(1.0806021805934127e-07), np.float64(1.3968804654776047e-07), np.float64(9.102628099562126e-08), np.float64(1.1182175848597998e-07), np.float64(1.5914366310003404e-07), np.float64(1.1715955067603573e-07), np.float64(2.2433873041984457e-07), np.float64(8.96747649615636e-08), np.float64(6.144458463630328e-08), np.float64(3.9812318315633575e-08), np.float64(1.5852073079760457e-07), np.float64(2.1469969523352075e-07), np.float64(1.3635998153757006e-07), np.float64(7.498666231541958e-08), np.float64(1.3314095994763452e-07), np.float64(1.1255107962679546e-07), np.float64(1.2926761280657716e-07), np.float64(2.75635736833488e-08), np.float64(4.405786056927057e-08), np.float64(4.929460753310411e-08), np.float64(7.413310236450972e-08), np.float64(1.303972355567492e-07), np.float64(1.4830776478117444e-07), np.float64(6.776808990364813e-08), np.float64(6.818346363295102e-08), np.float64(1.312909243840269e-07), np.float64(6.657484098887268e-08), np.float64(6.084498245539182e-08), np.float64(1.1277675589089176e-07), np.float64(1.1189994900003161e-07), np.float64(5.113166558816199e-08), np.float64(4.7973985746389844e-08), np.float64(2.2167078805694526e-07), np.float64(1.9784805277790457e-07), np.float64(1.9363146387097977e-07), np.float64(1.5753238226422898e-07), np.float64(1.8423130369229969e-07), np.float64(1.2125609372633838e-07), np.float64(4.377611871201434e-08), np.float64(1.0934442551928199e-07), np.float64(1.2523243493706356e-07), np.float64(1.7910138885184286e-07), np.float64(1.8020659276579902e-07), np.float64(1.1930755083952332e-07), np.float64(5.2774626221715295e-08), np.float64(7.929769604201319e-08), np.float64(1.698481927062898e-07), np.float64(1.2998130328641555e-07), np.float64(8.161113022483322e-08), np.float64(6.036937159903933e-08), np.float64(4.958499458923528e-08), np.float64(8.176046025900657e-08), np.float64(2.0079649516916298e-07), np.float64(2.2460604887515964e-07), np.float64(1.30975951770066e-07), np.float64(2.093750725404066e-07), np.float64(2.0172592877218712e-07), np.float64(2.010597534053634e-07), np.float64(1.0069060001156879e-07), np.float64(4.917177211755964e-08), np.float64(1.0680142434206681e-07), np.float64(1.1079502423724064e-07), np.float64(4.6402523612856745e-08), np.float64(8.734956792301349e-08), np.float64(8.473614678419426e-08), np.float64(9.815888946389941e-08), np.float64(3.067216791361308e-07), np.float64(9.062100790800718e-08), np.float64(1.116810115803769e-07), np.float64(1.6398251911345958e-07), np.float64(1.2505902762565202e-07), np.float64(1.6971889617320083e-07), np.float64(1.0904482069449546e-07), np.float64(9.727863634602946e-08), np.float64(1.4009023974181218e-07), np.float64(1.2285739846970594e-07), np.float64(7.78541621309358e-08), np.float64(9.538360170340035e-08), np.float64(7.39536966226165e-08), np.float64(5.3029161665838e-08), np.float64(4.5752003907706304e-08), np.float64(5.686830912038066e-08), np.float64(7.40870460998532e-08), np.float64(6.83456194287282e-08), np.float64(7.132867423238382e-08), np.float64(8.162863595526567e-08), np.float64(1.6447015217627186e-07), np.float64(1.8231962987096365e-07), np.float64(1.0896348644695894e-07), np.float64(1.2290716394749755e-07), np.float64(1.1230352247768193e-07), np.float64(1.4051615569109357e-07), np.float64(1.1257908524259985e-07), np.float64(1.2600025010886806e-07), np.float64(6.319462326411411e-08), np.float64(1.3583534197291482e-07), np.float64(1.691689742069884e-07), np.float64(8.711900684829674e-08), np.float64(6.490766203260042e-08), np.float64(9.832678741190888e-08), np.float64(1.0240098337846565e-07), np.float64(7.600916834169622e-08), np.float64(1.3356011993485366e-07), np.float64(1.7394256083758297e-07), np.float64(4.148082180401503e-08), np.float64(1.614742005086262e-07), np.float64(7.210658124009996e-08), np.float64(7.044242890163051e-08), np.float64(1.0972240310677782e-07), np.float64(1.1021940366509745e-07), np.float64(2.808089664253183e-08), np.float64(9.096281560719527e-08), np.float64(9.982007501113861e-08), np.float64(1.4895409285126746e-07), np.float64(1.1550211554663101e-07), np.float64(7.32747280501856e-08), np.float64(7.044688329692676e-08), np.float64(8.720580494874432e-08), np.float64(9.020850440267347e-08), np.float64(5.165120069380701e-08), np.float64(8.551135654178944e-08), np.float64(6.886625133487074e-08), np.float64(3.297964150850746e-08), np.float64(6.466966112628067e-08), np.float64(1.1395872875761266e-07), np.float64(1.7704255898773925e-07), np.float64(9.183039193211586e-08), np.float64(7.59544544653993e-08), np.float64(3.016931015611235e-08), np.float64(9.310404740635567e-08), np.float64(1.0862434710828348e-07), np.float64(1.2530450031835043e-07), np.float64(6.027100110636398e-08), np.float64(9.94769707670747e-08), np.float64(1.3239131991220562e-07), np.float64(9.440422106703891e-08), np.float64(6.34390728950758e-08), np.float64(1.0826244654665693e-07), np.float64(1.5582079000865256e-07), np.float64(5.2146321764012636e-08), np.float64(2.590329576693545e-07), np.float64(1.909143062519545e-07), np.float64(1.1266043911143814e-07), np.float64(9.967020668123784e-08), np.float64(1.3573753438583232e-07), np.float64(9.845481347420822e-08), np.float64(4.694022520826149e-08), np.float64(5.2266332767401096e-08), np.float64(9.202367116772764e-08), np.float64(1.3122328180475875e-07), np.float64(1.576503210743546e-07), np.float64(1.7113366635968808e-07), np.float64(9.494797573251432e-08), np.float64(5.189053828914012e-08), np.float64(4.4946098867221537e-08), np.float64(1.2858234049067176e-07), np.float64(8.31350741891461e-08), np.float64(4.03207070396747e-08), np.float64(5.7323485389416776e-08), np.float64(9.16200528487559e-08), np.float64(9.323835395519444e-08), np.float64(1.0760301473222916e-07), np.float64(7.569396550864591e-08), np.float64(9.338528892248481e-08), np.float64(2.619738138087935e-07), np.float64(9.415979992938312e-08), np.float64(7.498639287693935e-08), np.float64(5.7271482125278124e-08), np.float64(1.5456596153484765e-07), np.float64(1.9843976515396938e-07), np.float64(6.501467213235696e-08), np.float64(5.618929285374719e-08), np.float64(7.403125099134713e-08), np.float64(2.192612667940875e-07), np.float64(2.1806873674970258e-07), np.float64(9.068708975658894e-08), np.float64(1.3005841801710908e-07), np.float64(1.6403167111621718e-07), np.float64(5.517056945902725e-08), np.float64(8.94799393329445e-08), np.float64(1.1711039878742569e-07), np.float64(1.3084262806282332e-07), np.float64(6.597856046473862e-08), np.float64(1.0429291789597514e-07), np.float64(3.568009929989372e-07), np.float64(1.4227188524070418e-07), np.float64(7.895946228523564e-08), np.float64(1.7981933170807196e-07), np.float64(8.157855746411177e-08), np.float64(8.550287818302805e-08), np.float64(1.8049758168487801e-07), np.float64(9.731761103085013e-08), np.float64(6.57434766330972e-08), np.float64(5.333387159051023e-08), np.float64(8.917824038313467e-08), np.float64(7.15054335314202e-08), np.float64(7.952457996800459e-08), np.float64(1.0761421626241298e-07), np.float64(1.513530358306177e-07), np.float64(1.2025199822765729e-07), np.float64(8.58135675319802e-08), np.float64(6.810477061267954e-08), np.float64(6.059858768804012e-08), np.float64(7.272347616641476e-08), np.float64(1.1779957856505526e-07), np.float64(1.3478934190376615e-07), np.float64(6.125419421591099e-08), np.float64(5.6277507746620124e-08), np.float64(8.179653922317133e-08), np.float64(5.213205462782812e-08), np.float64(4.83914087785163e-08), np.float64(7.556424788530004e-08), np.float64(3.5165905080020716e-08), np.float64(8.432408352688054e-08), np.float64(1.0011399525183493e-07), np.float64(1.1215913673799041e-07), np.float64(6.074220140489458e-08), np.float64(3.2044146509176273e-07), np.float64(6.509682932197875e-08), np.float64(4.035214147268964e-08), np.float64(8.119509331090137e-08), np.float64(1.2373053532827643e-07), np.float64(2.534604863824805e-07), np.float64(2.0961619739848277e-07), np.float64(1.3108069868554876e-07), np.float64(1.0216070432565003e-06), np.float64(8.218424040711749e-07), np.float64(8.904789982574357e-07), np.float64(2.546214521495596e-07), np.float64(2.0555094682593132e-07), np.float64(7.291474852914941e-08), np.float64(7.25835750103963e-08), np.float64(7.458838966830667e-08), np.float64(9.505395562755409e-08), np.float64(3.223730144241353e-07), np.float64(2.894495367610335e-07), np.float64(2.8320434563428197e-07), np.float64(1.601887969057779e-07), np.float64(9.770988465140795e-07), np.float64(1.1694330340883756e-06), np.float64(1.8012780683268052e-07), np.float64(1.6130212843164768e-07), np.float64(1.3717501150602354e-07), np.float64(1.417320809999807e-07), np.float64(1.5336045733781403e-07), np.float64(2.8152934127540477e-07), np.float64(3.4907331133394103e-07), np.float64(2.840107922354098e-07), np.float64(6.399765046679452e-07), np.float64(1.3763969771117526e-07), np.float64(4.044064626837858e-07), np.float64(8.46221193319552e-08), np.float64(1.0178005519866344e-07), np.float64(1.4177110871306513e-07), np.float64(1.5582689259996145e-07), np.float64(3.8936757472697237e-08), np.float64(1.0523018926400255e-07), np.float64(6.977970122250344e-08), np.float64(1.1908734071692212e-07), np.float64(3.931582686153296e-08), np.float64(1.1996216372064585e-07), np.float64(1.2486386694354136e-07), np.float64(7.15000648579942e-08), np.float64(8.029683369192664e-08), np.float64(6.942353847465821e-08), np.float64(8.300150221826484e-08), np.float64(1.1835939384839305e-07), np.float64(1.0786079110516218e-07), np.float64(6.040235603221976e-08), np.float64(7.239959198842998e-08), np.float64(8.945673456189812e-08), np.float64(2.3726106892814152e-08), np.float64(9.760873162265085e-08), np.float64(1.3991809602628648e-07), np.float64(1.0044863692716485e-07), np.float64(1.8552807723584913e-07), np.float64(7.29900148862249e-08), np.float64(8.218749711802436e-08), np.float64(1.51457528653458e-06), np.float64(1.204355844570658e-06), np.float64(3.3797589067056094e-06), np.float64(1.0828512982014443e-06), np.float64(4.89413151356396e-07), np.float64(6.927267040909577e-08), np.float64(9.546792134271319e-08), np.float64(6.205034646646238e-08), np.float64(7.833717788856033e-08), np.float64(8.358978508508487e-08), np.float64(8.527195022325315e-08), np.float64(4.499353578855235e-08), np.float64(7.356939760274289e-08), np.float64(1.4901776262598316e-07), np.float64(1.429208169567453e-07), np.float64(1.3919204988627065e-07), np.float64(1.3175621879400548e-07), np.float64(1.0437542995626052e-07), np.float64(3.729353815766964e-08), np.float64(5.605888861840597e-08), np.float64(9.362085558167411e-08), np.float64(6.936080153923052e-08), np.float64(4.473375157011585e-08), np.float64(9.012036853828722e-08), np.float64(1.1885646189041802e-07), np.float64(9.147813966472493e-08), np.float64(1.202577467825305e-07), np.float64(9.843525223611124e-08), np.float64(6.541584620511413e-08), np.float64(7.72704196957222e-08), np.float64(9.63937993012445e-08), np.float64(1.6373388312510727e-07), np.float64(1.0497979719623171e-07), np.float64(1.0938136435127169e-07), np.float64(8.72137184007904e-08), np.float64(5.4236109719239414e-08), np.float64(6.358049616572581e-08), np.float64(1.4476405555948398e-07), np.float64(7.548451185460516e-08), np.float64(1.770894046354303e-07), np.float64(1.351864896783508e-07), np.float64(1.414028131419827e-07), np.float64(1.2430286385088322e-07), np.float64(4.24101040878802e-08), np.float64(6.454441664020198e-08), np.float64(1.5095133854786834e-07)]'",
     "output_type": "error",
     "traceback": [
      "\u001b[0;31m---------------------------------------------------------------------------\u001b[0m",
      "\u001b[0;31mValueError\u001b[0m                                Traceback (most recent call last)",
      "\u001b[0;32m/var/folders/l1/yg4p3qp10vq4pn5lyx21tcdr0000gq/T/ipykernel_79693/1739982680.py\u001b[0m in \u001b[0;36m?\u001b[0;34m()\u001b[0m\n\u001b[0;32m----> 5\u001b[0;31m \u001b[0;31m# Initialize StandardScaler\u001b[0m\u001b[0;34m\u001b[0m\u001b[0;34m\u001b[0m\u001b[0;34m\u001b[0m\u001b[0m\n\u001b[0m\u001b[1;32m      6\u001b[0m \u001b[0mscaler\u001b[0m \u001b[0;34m=\u001b[0m \u001b[0mStandardScaler\u001b[0m\u001b[0;34m(\u001b[0m\u001b[0;34m)\u001b[0m\u001b[0;34m\u001b[0m\u001b[0;34m\u001b[0m\u001b[0m\n\u001b[1;32m      7\u001b[0m \u001b[0;34m\u001b[0m\u001b[0m\n\u001b[1;32m      8\u001b[0m \u001b[0;31m# Fit and transform the Alzheimer's data\u001b[0m\u001b[0;34m\u001b[0m\u001b[0;34m\u001b[0m\u001b[0;34m\u001b[0m\u001b[0m\n",
      "\u001b[0;32m~/neuro-venv/lib/python3.9/site-packages/sklearn/utils/_set_output.py\u001b[0m in \u001b[0;36m?\u001b[0;34m(self, X, *args, **kwargs)\u001b[0m\n\u001b[1;32m    317\u001b[0m     \u001b[0;34m@\u001b[0m\u001b[0mwraps\u001b[0m\u001b[0;34m(\u001b[0m\u001b[0mf\u001b[0m\u001b[0;34m)\u001b[0m\u001b[0;34m\u001b[0m\u001b[0;34m\u001b[0m\u001b[0m\n\u001b[1;32m    318\u001b[0m     \u001b[0;32mdef\u001b[0m \u001b[0mwrapped\u001b[0m\u001b[0;34m(\u001b[0m\u001b[0mself\u001b[0m\u001b[0;34m,\u001b[0m \u001b[0mX\u001b[0m\u001b[0;34m,\u001b[0m \u001b[0;34m*\u001b[0m\u001b[0margs\u001b[0m\u001b[0;34m,\u001b[0m \u001b[0;34m**\u001b[0m\u001b[0mkwargs\u001b[0m\u001b[0;34m)\u001b[0m\u001b[0;34m:\u001b[0m\u001b[0;34m\u001b[0m\u001b[0;34m\u001b[0m\u001b[0m\n\u001b[0;32m--> 319\u001b[0;31m         \u001b[0mdata_to_wrap\u001b[0m \u001b[0;34m=\u001b[0m \u001b[0mf\u001b[0m\u001b[0;34m(\u001b[0m\u001b[0mself\u001b[0m\u001b[0;34m,\u001b[0m \u001b[0mX\u001b[0m\u001b[0;34m,\u001b[0m \u001b[0;34m*\u001b[0m\u001b[0margs\u001b[0m\u001b[0;34m,\u001b[0m \u001b[0;34m**\u001b[0m\u001b[0mkwargs\u001b[0m\u001b[0;34m)\u001b[0m\u001b[0;34m\u001b[0m\u001b[0;34m\u001b[0m\u001b[0m\n\u001b[0m\u001b[1;32m    320\u001b[0m         \u001b[0;32mif\u001b[0m \u001b[0misinstance\u001b[0m\u001b[0;34m(\u001b[0m\u001b[0mdata_to_wrap\u001b[0m\u001b[0;34m,\u001b[0m \u001b[0mtuple\u001b[0m\u001b[0;34m)\u001b[0m\u001b[0;34m:\u001b[0m\u001b[0;34m\u001b[0m\u001b[0;34m\u001b[0m\u001b[0m\n\u001b[1;32m    321\u001b[0m             \u001b[0;31m# only wrap the first output for cross decomposition\u001b[0m\u001b[0;34m\u001b[0m\u001b[0;34m\u001b[0m\u001b[0;34m\u001b[0m\u001b[0m\n\u001b[1;32m    322\u001b[0m             return_tuple = (\n",
      "\u001b[0;32m~/neuro-venv/lib/python3.9/site-packages/sklearn/base.py\u001b[0m in \u001b[0;36m?\u001b[0;34m(self, X, y, **fit_params)\u001b[0m\n\u001b[1;32m    914\u001b[0m                 )\n\u001b[1;32m    915\u001b[0m \u001b[0;34m\u001b[0m\u001b[0m\n\u001b[1;32m    916\u001b[0m         \u001b[0;32mif\u001b[0m \u001b[0my\u001b[0m \u001b[0;32mis\u001b[0m \u001b[0;32mNone\u001b[0m\u001b[0;34m:\u001b[0m\u001b[0;34m\u001b[0m\u001b[0;34m\u001b[0m\u001b[0m\n\u001b[1;32m    917\u001b[0m             \u001b[0;31m# fit method of arity 1 (unsupervised transformation)\u001b[0m\u001b[0;34m\u001b[0m\u001b[0;34m\u001b[0m\u001b[0;34m\u001b[0m\u001b[0m\n\u001b[0;32m--> 918\u001b[0;31m             \u001b[0;32mreturn\u001b[0m \u001b[0mself\u001b[0m\u001b[0;34m.\u001b[0m\u001b[0mfit\u001b[0m\u001b[0;34m(\u001b[0m\u001b[0mX\u001b[0m\u001b[0;34m,\u001b[0m \u001b[0;34m**\u001b[0m\u001b[0mfit_params\u001b[0m\u001b[0;34m)\u001b[0m\u001b[0;34m.\u001b[0m\u001b[0mtransform\u001b[0m\u001b[0;34m(\u001b[0m\u001b[0mX\u001b[0m\u001b[0;34m)\u001b[0m\u001b[0;34m\u001b[0m\u001b[0;34m\u001b[0m\u001b[0m\n\u001b[0m\u001b[1;32m    919\u001b[0m         \u001b[0;32melse\u001b[0m\u001b[0;34m:\u001b[0m\u001b[0;34m\u001b[0m\u001b[0;34m\u001b[0m\u001b[0m\n\u001b[1;32m    920\u001b[0m             \u001b[0;31m# fit method of arity 2 (supervised transformation)\u001b[0m\u001b[0;34m\u001b[0m\u001b[0;34m\u001b[0m\u001b[0;34m\u001b[0m\u001b[0m\n\u001b[1;32m    921\u001b[0m             \u001b[0;32mreturn\u001b[0m \u001b[0mself\u001b[0m\u001b[0;34m.\u001b[0m\u001b[0mfit\u001b[0m\u001b[0;34m(\u001b[0m\u001b[0mX\u001b[0m\u001b[0;34m,\u001b[0m \u001b[0my\u001b[0m\u001b[0;34m,\u001b[0m \u001b[0;34m**\u001b[0m\u001b[0mfit_params\u001b[0m\u001b[0;34m)\u001b[0m\u001b[0;34m.\u001b[0m\u001b[0mtransform\u001b[0m\u001b[0;34m(\u001b[0m\u001b[0mX\u001b[0m\u001b[0;34m)\u001b[0m\u001b[0;34m\u001b[0m\u001b[0;34m\u001b[0m\u001b[0m\n",
      "\u001b[0;32m~/neuro-venv/lib/python3.9/site-packages/sklearn/preprocessing/_data.py\u001b[0m in \u001b[0;36m?\u001b[0;34m(self, X, y, sample_weight)\u001b[0m\n\u001b[1;32m    890\u001b[0m             \u001b[0mFitted\u001b[0m \u001b[0mscaler\u001b[0m\u001b[0;34m.\u001b[0m\u001b[0;34m\u001b[0m\u001b[0;34m\u001b[0m\u001b[0m\n\u001b[1;32m    891\u001b[0m         \"\"\"\n\u001b[1;32m    892\u001b[0m         \u001b[0;31m# Reset internal state before fitting\u001b[0m\u001b[0;34m\u001b[0m\u001b[0;34m\u001b[0m\u001b[0;34m\u001b[0m\u001b[0m\n\u001b[1;32m    893\u001b[0m         \u001b[0mself\u001b[0m\u001b[0;34m.\u001b[0m\u001b[0m_reset\u001b[0m\u001b[0;34m(\u001b[0m\u001b[0;34m)\u001b[0m\u001b[0;34m\u001b[0m\u001b[0;34m\u001b[0m\u001b[0m\n\u001b[0;32m--> 894\u001b[0;31m         \u001b[0;32mreturn\u001b[0m \u001b[0mself\u001b[0m\u001b[0;34m.\u001b[0m\u001b[0mpartial_fit\u001b[0m\u001b[0;34m(\u001b[0m\u001b[0mX\u001b[0m\u001b[0;34m,\u001b[0m \u001b[0my\u001b[0m\u001b[0;34m,\u001b[0m \u001b[0msample_weight\u001b[0m\u001b[0;34m)\u001b[0m\u001b[0;34m\u001b[0m\u001b[0;34m\u001b[0m\u001b[0m\n\u001b[0m",
      "\u001b[0;32m~/neuro-venv/lib/python3.9/site-packages/sklearn/base.py\u001b[0m in \u001b[0;36m?\u001b[0;34m(estimator, *args, **kwargs)\u001b[0m\n\u001b[1;32m   1385\u001b[0m                 skip_parameter_validation=(\n\u001b[1;32m   1386\u001b[0m                     \u001b[0mprefer_skip_nested_validation\u001b[0m \u001b[0;32mor\u001b[0m \u001b[0mglobal_skip_validation\u001b[0m\u001b[0;34m\u001b[0m\u001b[0;34m\u001b[0m\u001b[0m\n\u001b[1;32m   1387\u001b[0m                 )\n\u001b[1;32m   1388\u001b[0m             ):\n\u001b[0;32m-> 1389\u001b[0;31m                 \u001b[0;32mreturn\u001b[0m \u001b[0mfit_method\u001b[0m\u001b[0;34m(\u001b[0m\u001b[0mestimator\u001b[0m\u001b[0;34m,\u001b[0m \u001b[0;34m*\u001b[0m\u001b[0margs\u001b[0m\u001b[0;34m,\u001b[0m \u001b[0;34m**\u001b[0m\u001b[0mkwargs\u001b[0m\u001b[0;34m)\u001b[0m\u001b[0;34m\u001b[0m\u001b[0;34m\u001b[0m\u001b[0m\n\u001b[0m",
      "\u001b[0;32m~/neuro-venv/lib/python3.9/site-packages/sklearn/preprocessing/_data.py\u001b[0m in \u001b[0;36m?\u001b[0;34m(self, X, y, sample_weight)\u001b[0m\n\u001b[1;32m    926\u001b[0m         \u001b[0mself\u001b[0m \u001b[0;34m:\u001b[0m \u001b[0mobject\u001b[0m\u001b[0;34m\u001b[0m\u001b[0;34m\u001b[0m\u001b[0m\n\u001b[1;32m    927\u001b[0m             \u001b[0mFitted\u001b[0m \u001b[0mscaler\u001b[0m\u001b[0;34m.\u001b[0m\u001b[0;34m\u001b[0m\u001b[0;34m\u001b[0m\u001b[0m\n\u001b[1;32m    928\u001b[0m         \"\"\"\n\u001b[1;32m    929\u001b[0m         \u001b[0mfirst_call\u001b[0m \u001b[0;34m=\u001b[0m \u001b[0;32mnot\u001b[0m \u001b[0mhasattr\u001b[0m\u001b[0;34m(\u001b[0m\u001b[0mself\u001b[0m\u001b[0;34m,\u001b[0m \u001b[0;34m\"n_samples_seen_\"\u001b[0m\u001b[0;34m)\u001b[0m\u001b[0;34m\u001b[0m\u001b[0;34m\u001b[0m\u001b[0m\n\u001b[0;32m--> 930\u001b[0;31m         X = validate_data(\n\u001b[0m\u001b[1;32m    931\u001b[0m             \u001b[0mself\u001b[0m\u001b[0;34m,\u001b[0m\u001b[0;34m\u001b[0m\u001b[0;34m\u001b[0m\u001b[0m\n\u001b[1;32m    932\u001b[0m             \u001b[0mX\u001b[0m\u001b[0;34m,\u001b[0m\u001b[0;34m\u001b[0m\u001b[0;34m\u001b[0m\u001b[0m\n\u001b[1;32m    933\u001b[0m             \u001b[0maccept_sparse\u001b[0m\u001b[0;34m=\u001b[0m\u001b[0;34m(\u001b[0m\u001b[0;34m\"csr\"\u001b[0m\u001b[0;34m,\u001b[0m \u001b[0;34m\"csc\"\u001b[0m\u001b[0;34m)\u001b[0m\u001b[0;34m,\u001b[0m\u001b[0;34m\u001b[0m\u001b[0;34m\u001b[0m\u001b[0m\n",
      "\u001b[0;32m~/neuro-venv/lib/python3.9/site-packages/sklearn/utils/validation.py\u001b[0m in \u001b[0;36m?\u001b[0;34m(_estimator, X, y, reset, validate_separately, skip_check_array, **check_params)\u001b[0m\n\u001b[1;32m   2940\u001b[0m             \u001b[0mout\u001b[0m \u001b[0;34m=\u001b[0m \u001b[0my\u001b[0m\u001b[0;34m\u001b[0m\u001b[0;34m\u001b[0m\u001b[0m\n\u001b[1;32m   2941\u001b[0m         \u001b[0;32melse\u001b[0m\u001b[0;34m:\u001b[0m\u001b[0;34m\u001b[0m\u001b[0;34m\u001b[0m\u001b[0m\n\u001b[1;32m   2942\u001b[0m             \u001b[0mout\u001b[0m \u001b[0;34m=\u001b[0m \u001b[0mX\u001b[0m\u001b[0;34m,\u001b[0m \u001b[0my\u001b[0m\u001b[0;34m\u001b[0m\u001b[0;34m\u001b[0m\u001b[0m\n\u001b[1;32m   2943\u001b[0m     \u001b[0;32melif\u001b[0m \u001b[0;32mnot\u001b[0m \u001b[0mno_val_X\u001b[0m \u001b[0;32mand\u001b[0m \u001b[0mno_val_y\u001b[0m\u001b[0;34m:\u001b[0m\u001b[0;34m\u001b[0m\u001b[0;34m\u001b[0m\u001b[0m\n\u001b[0;32m-> 2944\u001b[0;31m         \u001b[0mout\u001b[0m \u001b[0;34m=\u001b[0m \u001b[0mcheck_array\u001b[0m\u001b[0;34m(\u001b[0m\u001b[0mX\u001b[0m\u001b[0;34m,\u001b[0m \u001b[0minput_name\u001b[0m\u001b[0;34m=\u001b[0m\u001b[0;34m\"X\"\u001b[0m\u001b[0;34m,\u001b[0m \u001b[0;34m**\u001b[0m\u001b[0mcheck_params\u001b[0m\u001b[0;34m)\u001b[0m\u001b[0;34m\u001b[0m\u001b[0;34m\u001b[0m\u001b[0m\n\u001b[0m\u001b[1;32m   2945\u001b[0m     \u001b[0;32melif\u001b[0m \u001b[0mno_val_X\u001b[0m \u001b[0;32mand\u001b[0m \u001b[0;32mnot\u001b[0m \u001b[0mno_val_y\u001b[0m\u001b[0;34m:\u001b[0m\u001b[0;34m\u001b[0m\u001b[0;34m\u001b[0m\u001b[0m\n\u001b[1;32m   2946\u001b[0m         \u001b[0mout\u001b[0m \u001b[0;34m=\u001b[0m \u001b[0m_check_y\u001b[0m\u001b[0;34m(\u001b[0m\u001b[0my\u001b[0m\u001b[0;34m,\u001b[0m \u001b[0;34m**\u001b[0m\u001b[0mcheck_params\u001b[0m\u001b[0;34m)\u001b[0m\u001b[0;34m\u001b[0m\u001b[0;34m\u001b[0m\u001b[0m\n\u001b[1;32m   2947\u001b[0m     \u001b[0;32melse\u001b[0m\u001b[0;34m:\u001b[0m\u001b[0;34m\u001b[0m\u001b[0;34m\u001b[0m\u001b[0m\n",
      "\u001b[0;32m~/neuro-venv/lib/python3.9/site-packages/sklearn/utils/validation.py\u001b[0m in \u001b[0;36m?\u001b[0;34m(array, accept_sparse, accept_large_sparse, dtype, order, copy, force_writeable, force_all_finite, ensure_all_finite, ensure_non_negative, ensure_2d, allow_nd, ensure_min_samples, ensure_min_features, estimator, input_name)\u001b[0m\n\u001b[1;32m   1053\u001b[0m                     \u001b[0marray\u001b[0m \u001b[0;34m=\u001b[0m \u001b[0mxp\u001b[0m\u001b[0;34m.\u001b[0m\u001b[0mastype\u001b[0m\u001b[0;34m(\u001b[0m\u001b[0marray\u001b[0m\u001b[0;34m,\u001b[0m \u001b[0mdtype\u001b[0m\u001b[0;34m,\u001b[0m \u001b[0mcopy\u001b[0m\u001b[0;34m=\u001b[0m\u001b[0;32mFalse\u001b[0m\u001b[0;34m)\u001b[0m\u001b[0;34m\u001b[0m\u001b[0;34m\u001b[0m\u001b[0m\n\u001b[1;32m   1054\u001b[0m                 \u001b[0;32melse\u001b[0m\u001b[0;34m:\u001b[0m\u001b[0;34m\u001b[0m\u001b[0;34m\u001b[0m\u001b[0m\n\u001b[1;32m   1055\u001b[0m                     \u001b[0marray\u001b[0m \u001b[0;34m=\u001b[0m \u001b[0m_asarray_with_order\u001b[0m\u001b[0;34m(\u001b[0m\u001b[0marray\u001b[0m\u001b[0;34m,\u001b[0m \u001b[0morder\u001b[0m\u001b[0;34m=\u001b[0m\u001b[0morder\u001b[0m\u001b[0;34m,\u001b[0m \u001b[0mdtype\u001b[0m\u001b[0;34m=\u001b[0m\u001b[0mdtype\u001b[0m\u001b[0;34m,\u001b[0m \u001b[0mxp\u001b[0m\u001b[0;34m=\u001b[0m\u001b[0mxp\u001b[0m\u001b[0;34m)\u001b[0m\u001b[0;34m\u001b[0m\u001b[0;34m\u001b[0m\u001b[0m\n\u001b[1;32m   1056\u001b[0m             \u001b[0;32mexcept\u001b[0m \u001b[0mComplexWarning\u001b[0m \u001b[0;32mas\u001b[0m \u001b[0mcomplex_warning\u001b[0m\u001b[0;34m:\u001b[0m\u001b[0;34m\u001b[0m\u001b[0;34m\u001b[0m\u001b[0m\n\u001b[0;32m-> 1057\u001b[0;31m                 raise ValueError(\n\u001b[0m\u001b[1;32m   1058\u001b[0m                     \u001b[0;34m\"Complex data not supported\\n{}\\n\"\u001b[0m\u001b[0;34m.\u001b[0m\u001b[0mformat\u001b[0m\u001b[0;34m(\u001b[0m\u001b[0marray\u001b[0m\u001b[0;34m)\u001b[0m\u001b[0;34m\u001b[0m\u001b[0;34m\u001b[0m\u001b[0m\n\u001b[1;32m   1059\u001b[0m                 ) from complex_warning\n\u001b[1;32m   1060\u001b[0m \u001b[0;34m\u001b[0m\u001b[0m\n",
      "\u001b[0;32m~/neuro-venv/lib/python3.9/site-packages/sklearn/utils/_array_api.py\u001b[0m in \u001b[0;36m?\u001b[0;34m(array, dtype, order, copy, xp, device)\u001b[0m\n\u001b[1;32m    835\u001b[0m         \u001b[0;31m# Use NumPy API to support order\u001b[0m\u001b[0;34m\u001b[0m\u001b[0;34m\u001b[0m\u001b[0;34m\u001b[0m\u001b[0m\n\u001b[1;32m    836\u001b[0m         \u001b[0;32mif\u001b[0m \u001b[0mcopy\u001b[0m \u001b[0;32mis\u001b[0m \u001b[0;32mTrue\u001b[0m\u001b[0;34m:\u001b[0m\u001b[0;34m\u001b[0m\u001b[0;34m\u001b[0m\u001b[0m\n\u001b[1;32m    837\u001b[0m             \u001b[0marray\u001b[0m \u001b[0;34m=\u001b[0m \u001b[0mnumpy\u001b[0m\u001b[0;34m.\u001b[0m\u001b[0marray\u001b[0m\u001b[0;34m(\u001b[0m\u001b[0marray\u001b[0m\u001b[0;34m,\u001b[0m \u001b[0morder\u001b[0m\u001b[0;34m=\u001b[0m\u001b[0morder\u001b[0m\u001b[0;34m,\u001b[0m \u001b[0mdtype\u001b[0m\u001b[0;34m=\u001b[0m\u001b[0mdtype\u001b[0m\u001b[0;34m)\u001b[0m\u001b[0;34m\u001b[0m\u001b[0;34m\u001b[0m\u001b[0m\n\u001b[1;32m    838\u001b[0m         \u001b[0;32melse\u001b[0m\u001b[0;34m:\u001b[0m\u001b[0;34m\u001b[0m\u001b[0;34m\u001b[0m\u001b[0m\n\u001b[0;32m--> 839\u001b[0;31m             \u001b[0marray\u001b[0m \u001b[0;34m=\u001b[0m \u001b[0mnumpy\u001b[0m\u001b[0;34m.\u001b[0m\u001b[0masarray\u001b[0m\u001b[0;34m(\u001b[0m\u001b[0marray\u001b[0m\u001b[0;34m,\u001b[0m \u001b[0morder\u001b[0m\u001b[0;34m=\u001b[0m\u001b[0morder\u001b[0m\u001b[0;34m,\u001b[0m \u001b[0mdtype\u001b[0m\u001b[0;34m=\u001b[0m\u001b[0mdtype\u001b[0m\u001b[0;34m)\u001b[0m\u001b[0;34m\u001b[0m\u001b[0;34m\u001b[0m\u001b[0m\n\u001b[0m\u001b[1;32m    840\u001b[0m \u001b[0;34m\u001b[0m\u001b[0m\n\u001b[1;32m    841\u001b[0m         \u001b[0;31m# At this point array is a NumPy ndarray. We convert it to an array\u001b[0m\u001b[0;34m\u001b[0m\u001b[0;34m\u001b[0m\u001b[0;34m\u001b[0m\u001b[0m\n\u001b[1;32m    842\u001b[0m         \u001b[0;31m# container that is consistent with the input's namespace.\u001b[0m\u001b[0;34m\u001b[0m\u001b[0;34m\u001b[0m\u001b[0;34m\u001b[0m\u001b[0m\n",
      "\u001b[0;32m~/neuro-venv/lib/python3.9/site-packages/pandas/core/generic.py\u001b[0m in \u001b[0;36m?\u001b[0;34m(self, dtype, copy)\u001b[0m\n\u001b[1;32m   2149\u001b[0m     def __array__(\n\u001b[1;32m   2150\u001b[0m         \u001b[0mself\u001b[0m\u001b[0;34m,\u001b[0m \u001b[0mdtype\u001b[0m\u001b[0;34m:\u001b[0m \u001b[0mnpt\u001b[0m\u001b[0;34m.\u001b[0m\u001b[0mDTypeLike\u001b[0m \u001b[0;34m|\u001b[0m \u001b[0;32mNone\u001b[0m \u001b[0;34m=\u001b[0m \u001b[0;32mNone\u001b[0m\u001b[0;34m,\u001b[0m \u001b[0mcopy\u001b[0m\u001b[0;34m:\u001b[0m \u001b[0mbool_t\u001b[0m \u001b[0;34m|\u001b[0m \u001b[0;32mNone\u001b[0m \u001b[0;34m=\u001b[0m \u001b[0;32mNone\u001b[0m\u001b[0;34m\u001b[0m\u001b[0;34m\u001b[0m\u001b[0m\n\u001b[1;32m   2151\u001b[0m     ) -> np.ndarray:\n\u001b[1;32m   2152\u001b[0m         \u001b[0mvalues\u001b[0m \u001b[0;34m=\u001b[0m \u001b[0mself\u001b[0m\u001b[0;34m.\u001b[0m\u001b[0m_values\u001b[0m\u001b[0;34m\u001b[0m\u001b[0;34m\u001b[0m\u001b[0m\n\u001b[0;32m-> 2153\u001b[0;31m         \u001b[0marr\u001b[0m \u001b[0;34m=\u001b[0m \u001b[0mnp\u001b[0m\u001b[0;34m.\u001b[0m\u001b[0masarray\u001b[0m\u001b[0;34m(\u001b[0m\u001b[0mvalues\u001b[0m\u001b[0;34m,\u001b[0m \u001b[0mdtype\u001b[0m\u001b[0;34m=\u001b[0m\u001b[0mdtype\u001b[0m\u001b[0;34m)\u001b[0m\u001b[0;34m\u001b[0m\u001b[0;34m\u001b[0m\u001b[0m\n\u001b[0m\u001b[1;32m   2154\u001b[0m         if (\n\u001b[1;32m   2155\u001b[0m             \u001b[0mastype_is_view\u001b[0m\u001b[0;34m(\u001b[0m\u001b[0mvalues\u001b[0m\u001b[0;34m.\u001b[0m\u001b[0mdtype\u001b[0m\u001b[0;34m,\u001b[0m \u001b[0marr\u001b[0m\u001b[0;34m.\u001b[0m\u001b[0mdtype\u001b[0m\u001b[0;34m)\u001b[0m\u001b[0;34m\u001b[0m\u001b[0;34m\u001b[0m\u001b[0m\n\u001b[1;32m   2156\u001b[0m             \u001b[0;32mand\u001b[0m \u001b[0musing_copy_on_write\u001b[0m\u001b[0;34m(\u001b[0m\u001b[0;34m)\u001b[0m\u001b[0;34m\u001b[0m\u001b[0;34m\u001b[0m\u001b[0m\n",
      "\u001b[0;31mValueError\u001b[0m: could not convert string to float: '[np.float64(5.607240819161222e-07), np.float64(2.136206557103639e-07), np.float64(1.4815955569749812e-07), np.float64(1.1329436172684679e-07), np.float64(7.296527914043617e-08), np.float64(6.059866918225963e-08), np.float64(1.0361302410499309e-07), np.float64(2.3086230197239276e-07), np.float64(1.0552505598702842e-07), np.float64(8.896397838702983e-08), np.float64(6.57345729309926e-08), np.float64(6.71105777754649e-08), np.float64(1.6631586295502842e-07), np.float64(1.5266041712409792e-07), np.float64(5.313955773328878e-07), np.float64(6.700614808615797e-07), np.float64(3.464982345643528e-07), np.float64(1.0609118614977464e-06), np.float64(6.268996717597441e-07), np.float64(9.355173677896289e-08), np.float64(1.194314537437679e-07), np.float64(2.9432058402460086e-07), np.float64(3.0417203518634765e-07), np.float64(1.0967247840000785e-07), np.float64(9.184340855409266e-08), np.float64(7.298744113820288e-08), np.float64(6.505383470440462e-08), np.float64(1.0417842890080257e-07), np.float64(9.730210493796052e-08), np.float64(8.995792096949221e-08), np.float64(1.1309142334809496e-07), np.float64(9.147278119264863e-08), np.float64(8.028007894945357e-08), np.float64(3.910675254052024e-08), np.float64(4.7616241572963455e-08), np.float64(9.23676312891766e-08), np.float64(8.666777071632293e-08), np.float64(5.3720467669636515e-08), np.float64(4.507919984792642e-08), np.float64(1.1321679129786101e-07), np.float64(1.7134046570440064e-07), np.float64(1.6598388618684093e-07), np.float64(1.786538011475921e-07), np.float64(9.937227590877972e-08), np.float64(1.1079222912237629e-07), np.float64(5.701505036966723e-08), np.float64(1.6285184246608622e-07), np.float64(2.950901391419497e-07), np.float64(2.0900590119487602e-07), np.float64(3.714895620834422e-08), np.float64(8.150257207750976e-08), np.float64(1.7322572179818695e-07), np.float64(1.615746906403857e-07), np.float64(9.339053900329418e-08), np.float64(1.0192356735602678e-07), np.float64(1.4013672028456106e-07), np.float64(1.2655810924151761e-07), np.float64(9.5717174655695e-08), np.float64(6.661646742665388e-08), np.float64(7.161302034412327e-08), np.float64(1.0078871209987669e-07), np.float64(1.369200117630136e-07), np.float64(3.8076737937546335e-08), np.float64(5.8321731837877356e-08), np.float64(2.0886283167660063e-07), np.float64(1.7575173589547377e-07), np.float64(8.186280207961873e-08), np.float64(8.773530509836535e-08), np.float64(1.5378393138343645e-07), np.float64(9.074100104641516e-08), np.float64(5.5669940046927997e-08), np.float64(1.4650860047217265e-07), np.float64(9.819941624475495e-08), np.float64(6.090608216198877e-08), np.float64(1.0806021805934127e-07), np.float64(1.3968804654776047e-07), np.float64(9.102628099562126e-08), np.float64(1.1182175848597998e-07), np.float64(1.5914366310003404e-07), np.float64(1.1715955067603573e-07), np.float64(2.2433873041984457e-07), np.float64(8.96747649615636e-08), np.float64(6.144458463630328e-08), np.float64(3.9812318315633575e-08), np.float64(1.5852073079760457e-07), np.float64(2.1469969523352075e-07), np.float64(1.3635998153757006e-07), np.float64(7.498666231541958e-08), np.float64(1.3314095994763452e-07), np.float64(1.1255107962679546e-07), np.float64(1.2926761280657716e-07), np.float64(2.75635736833488e-08), np.float64(4.405786056927057e-08), np.float64(4.929460753310411e-08), np.float64(7.413310236450972e-08), np.float64(1.303972355567492e-07), np.float64(1.4830776478117444e-07), np.float64(6.776808990364813e-08), np.float64(6.818346363295102e-08), np.float64(1.312909243840269e-07), np.float64(6.657484098887268e-08), np.float64(6.084498245539182e-08), np.float64(1.1277675589089176e-07), np.float64(1.1189994900003161e-07), np.float64(5.113166558816199e-08), np.float64(4.7973985746389844e-08), np.float64(2.2167078805694526e-07), np.float64(1.9784805277790457e-07), np.float64(1.9363146387097977e-07), np.float64(1.5753238226422898e-07), np.float64(1.8423130369229969e-07), np.float64(1.2125609372633838e-07), np.float64(4.377611871201434e-08), np.float64(1.0934442551928199e-07), np.float64(1.2523243493706356e-07), np.float64(1.7910138885184286e-07), np.float64(1.8020659276579902e-07), np.float64(1.1930755083952332e-07), np.float64(5.2774626221715295e-08), np.float64(7.929769604201319e-08), np.float64(1.698481927062898e-07), np.float64(1.2998130328641555e-07), np.float64(8.161113022483322e-08), np.float64(6.036937159903933e-08), np.float64(4.958499458923528e-08), np.float64(8.176046025900657e-08), np.float64(2.0079649516916298e-07), np.float64(2.2460604887515964e-07), np.float64(1.30975951770066e-07), np.float64(2.093750725404066e-07), np.float64(2.0172592877218712e-07), np.float64(2.010597534053634e-07), np.float64(1.0069060001156879e-07), np.float64(4.917177211755964e-08), np.float64(1.0680142434206681e-07), np.float64(1.1079502423724064e-07), np.float64(4.6402523612856745e-08), np.float64(8.734956792301349e-08), np.float64(8.473614678419426e-08), np.float64(9.815888946389941e-08), np.float64(3.067216791361308e-07), np.float64(9.062100790800718e-08), np.float64(1.116810115803769e-07), np.float64(1.6398251911345958e-07), np.float64(1.2505902762565202e-07), np.float64(1.6971889617320083e-07), np.float64(1.0904482069449546e-07), np.float64(9.727863634602946e-08), np.float64(1.4009023974181218e-07), np.float64(1.2285739846970594e-07), np.float64(7.78541621309358e-08), np.float64(9.538360170340035e-08), np.float64(7.39536966226165e-08), np.float64(5.3029161665838e-08), np.float64(4.5752003907706304e-08), np.float64(5.686830912038066e-08), np.float64(7.40870460998532e-08), np.float64(6.83456194287282e-08), np.float64(7.132867423238382e-08), np.float64(8.162863595526567e-08), np.float64(1.6447015217627186e-07), np.float64(1.8231962987096365e-07), np.float64(1.0896348644695894e-07), np.float64(1.2290716394749755e-07), np.float64(1.1230352247768193e-07), np.float64(1.4051615569109357e-07), np.float64(1.1257908524259985e-07), np.float64(1.2600025010886806e-07), np.float64(6.319462326411411e-08), np.float64(1.3583534197291482e-07), np.float64(1.691689742069884e-07), np.float64(8.711900684829674e-08), np.float64(6.490766203260042e-08), np.float64(9.832678741190888e-08), np.float64(1.0240098337846565e-07), np.float64(7.600916834169622e-08), np.float64(1.3356011993485366e-07), np.float64(1.7394256083758297e-07), np.float64(4.148082180401503e-08), np.float64(1.614742005086262e-07), np.float64(7.210658124009996e-08), np.float64(7.044242890163051e-08), np.float64(1.0972240310677782e-07), np.float64(1.1021940366509745e-07), np.float64(2.808089664253183e-08), np.float64(9.096281560719527e-08), np.float64(9.982007501113861e-08), np.float64(1.4895409285126746e-07), np.float64(1.1550211554663101e-07), np.float64(7.32747280501856e-08), np.float64(7.044688329692676e-08), np.float64(8.720580494874432e-08), np.float64(9.020850440267347e-08), np.float64(5.165120069380701e-08), np.float64(8.551135654178944e-08), np.float64(6.886625133487074e-08), np.float64(3.297964150850746e-08), np.float64(6.466966112628067e-08), np.float64(1.1395872875761266e-07), np.float64(1.7704255898773925e-07), np.float64(9.183039193211586e-08), np.float64(7.59544544653993e-08), np.float64(3.016931015611235e-08), np.float64(9.310404740635567e-08), np.float64(1.0862434710828348e-07), np.float64(1.2530450031835043e-07), np.float64(6.027100110636398e-08), np.float64(9.94769707670747e-08), np.float64(1.3239131991220562e-07), np.float64(9.440422106703891e-08), np.float64(6.34390728950758e-08), np.float64(1.0826244654665693e-07), np.float64(1.5582079000865256e-07), np.float64(5.2146321764012636e-08), np.float64(2.590329576693545e-07), np.float64(1.909143062519545e-07), np.float64(1.1266043911143814e-07), np.float64(9.967020668123784e-08), np.float64(1.3573753438583232e-07), np.float64(9.845481347420822e-08), np.float64(4.694022520826149e-08), np.float64(5.2266332767401096e-08), np.float64(9.202367116772764e-08), np.float64(1.3122328180475875e-07), np.float64(1.576503210743546e-07), np.float64(1.7113366635968808e-07), np.float64(9.494797573251432e-08), np.float64(5.189053828914012e-08), np.float64(4.4946098867221537e-08), np.float64(1.2858234049067176e-07), np.float64(8.31350741891461e-08), np.float64(4.03207070396747e-08), np.float64(5.7323485389416776e-08), np.float64(9.16200528487559e-08), np.float64(9.323835395519444e-08), np.float64(1.0760301473222916e-07), np.float64(7.569396550864591e-08), np.float64(9.338528892248481e-08), np.float64(2.619738138087935e-07), np.float64(9.415979992938312e-08), np.float64(7.498639287693935e-08), np.float64(5.7271482125278124e-08), np.float64(1.5456596153484765e-07), np.float64(1.9843976515396938e-07), np.float64(6.501467213235696e-08), np.float64(5.618929285374719e-08), np.float64(7.403125099134713e-08), np.float64(2.192612667940875e-07), np.float64(2.1806873674970258e-07), np.float64(9.068708975658894e-08), np.float64(1.3005841801710908e-07), np.float64(1.6403167111621718e-07), np.float64(5.517056945902725e-08), np.float64(8.94799393329445e-08), np.float64(1.1711039878742569e-07), np.float64(1.3084262806282332e-07), np.float64(6.597856046473862e-08), np.float64(1.0429291789597514e-07), np.float64(3.568009929989372e-07), np.float64(1.4227188524070418e-07), np.float64(7.895946228523564e-08), np.float64(1.7981933170807196e-07), np.float64(8.157855746411177e-08), np.float64(8.550287818302805e-08), np.float64(1.8049758168487801e-07), np.float64(9.731761103085013e-08), np.float64(6.57434766330972e-08), np.float64(5.333387159051023e-08), np.float64(8.917824038313467e-08), np.float64(7.15054335314202e-08), np.float64(7.952457996800459e-08), np.float64(1.0761421626241298e-07), np.float64(1.513530358306177e-07), np.float64(1.2025199822765729e-07), np.float64(8.58135675319802e-08), np.float64(6.810477061267954e-08), np.float64(6.059858768804012e-08), np.float64(7.272347616641476e-08), np.float64(1.1779957856505526e-07), np.float64(1.3478934190376615e-07), np.float64(6.125419421591099e-08), np.float64(5.6277507746620124e-08), np.float64(8.179653922317133e-08), np.float64(5.213205462782812e-08), np.float64(4.83914087785163e-08), np.float64(7.556424788530004e-08), np.float64(3.5165905080020716e-08), np.float64(8.432408352688054e-08), np.float64(1.0011399525183493e-07), np.float64(1.1215913673799041e-07), np.float64(6.074220140489458e-08), np.float64(3.2044146509176273e-07), np.float64(6.509682932197875e-08), np.float64(4.035214147268964e-08), np.float64(8.119509331090137e-08), np.float64(1.2373053532827643e-07), np.float64(2.534604863824805e-07), np.float64(2.0961619739848277e-07), np.float64(1.3108069868554876e-07), np.float64(1.0216070432565003e-06), np.float64(8.218424040711749e-07), np.float64(8.904789982574357e-07), np.float64(2.546214521495596e-07), np.float64(2.0555094682593132e-07), np.float64(7.291474852914941e-08), np.float64(7.25835750103963e-08), np.float64(7.458838966830667e-08), np.float64(9.505395562755409e-08), np.float64(3.223730144241353e-07), np.float64(2.894495367610335e-07), np.float64(2.8320434563428197e-07), np.float64(1.601887969057779e-07), np.float64(9.770988465140795e-07), np.float64(1.1694330340883756e-06), np.float64(1.8012780683268052e-07), np.float64(1.6130212843164768e-07), np.float64(1.3717501150602354e-07), np.float64(1.417320809999807e-07), np.float64(1.5336045733781403e-07), np.float64(2.8152934127540477e-07), np.float64(3.4907331133394103e-07), np.float64(2.840107922354098e-07), np.float64(6.399765046679452e-07), np.float64(1.3763969771117526e-07), np.float64(4.044064626837858e-07), np.float64(8.46221193319552e-08), np.float64(1.0178005519866344e-07), np.float64(1.4177110871306513e-07), np.float64(1.5582689259996145e-07), np.float64(3.8936757472697237e-08), np.float64(1.0523018926400255e-07), np.float64(6.977970122250344e-08), np.float64(1.1908734071692212e-07), np.float64(3.931582686153296e-08), np.float64(1.1996216372064585e-07), np.float64(1.2486386694354136e-07), np.float64(7.15000648579942e-08), np.float64(8.029683369192664e-08), np.float64(6.942353847465821e-08), np.float64(8.300150221826484e-08), np.float64(1.1835939384839305e-07), np.float64(1.0786079110516218e-07), np.float64(6.040235603221976e-08), np.float64(7.239959198842998e-08), np.float64(8.945673456189812e-08), np.float64(2.3726106892814152e-08), np.float64(9.760873162265085e-08), np.float64(1.3991809602628648e-07), np.float64(1.0044863692716485e-07), np.float64(1.8552807723584913e-07), np.float64(7.29900148862249e-08), np.float64(8.218749711802436e-08), np.float64(1.51457528653458e-06), np.float64(1.204355844570658e-06), np.float64(3.3797589067056094e-06), np.float64(1.0828512982014443e-06), np.float64(4.89413151356396e-07), np.float64(6.927267040909577e-08), np.float64(9.546792134271319e-08), np.float64(6.205034646646238e-08), np.float64(7.833717788856033e-08), np.float64(8.358978508508487e-08), np.float64(8.527195022325315e-08), np.float64(4.499353578855235e-08), np.float64(7.356939760274289e-08), np.float64(1.4901776262598316e-07), np.float64(1.429208169567453e-07), np.float64(1.3919204988627065e-07), np.float64(1.3175621879400548e-07), np.float64(1.0437542995626052e-07), np.float64(3.729353815766964e-08), np.float64(5.605888861840597e-08), np.float64(9.362085558167411e-08), np.float64(6.936080153923052e-08), np.float64(4.473375157011585e-08), np.float64(9.012036853828722e-08), np.float64(1.1885646189041802e-07), np.float64(9.147813966472493e-08), np.float64(1.202577467825305e-07), np.float64(9.843525223611124e-08), np.float64(6.541584620511413e-08), np.float64(7.72704196957222e-08), np.float64(9.63937993012445e-08), np.float64(1.6373388312510727e-07), np.float64(1.0497979719623171e-07), np.float64(1.0938136435127169e-07), np.float64(8.72137184007904e-08), np.float64(5.4236109719239414e-08), np.float64(6.358049616572581e-08), np.float64(1.4476405555948398e-07), np.float64(7.548451185460516e-08), np.float64(1.770894046354303e-07), np.float64(1.351864896783508e-07), np.float64(1.414028131419827e-07), np.float64(1.2430286385088322e-07), np.float64(4.24101040878802e-08), np.float64(6.454441664020198e-08), np.float64(1.5095133854786834e-07)]'"
     ]
    }
   ],
   "source": [
    "# go to this Step 1: Ensure \"Window Avg\" is Numeric Before we scale, we need to ensure that \"Window Avg\" is stored as numeric values.\n",
    "# Initialize StandardScaler\n",
    "scaler = StandardScaler()\n",
    "\n",
    "# Fit and transform the Alzheimer's data\n",
    "alz_combined[\"Window Avg\"] = scaler.fit_transform(alz_combined[[\"Window Avg\"]])\n",
    "\n",
    "# Transform (but not fit) the Control data with the same scaler\n",
    "control_combined[\"Window Avg\"] = scaler.transform(control_combined[[\"Window Avg\"]])\n",
    "\n",
    "# Check results\n",
    "print(\"Scaled Alzheimer's Data:\\n\", alz_combined.head())\n",
    "print(\"Scaled Control Data:\\n\", control_combined.head())"
   ]
  },
  {
   "cell_type": "code",
   "execution_count": null,
   "id": "8466afed-52d4-4117-afe6-11f3e468254d",
   "metadata": {},
   "outputs": [],
   "source": []
  }
 ],
 "metadata": {
  "kernelspec": {
   "display_name": "Python 3 (ipykernel)",
   "language": "python",
   "name": "python3"
  },
  "language_info": {
   "codemirror_mode": {
    "name": "ipython",
    "version": 3
   },
   "file_extension": ".py",
   "mimetype": "text/x-python",
   "name": "python",
   "nbconvert_exporter": "python",
   "pygments_lexer": "ipython3",
   "version": "3.9.6"
  }
 },
 "nbformat": 4,
 "nbformat_minor": 5
}
