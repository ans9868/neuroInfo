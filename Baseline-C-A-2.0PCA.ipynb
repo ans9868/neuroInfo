{
 "cells": [
  {
   "cell_type": "code",
   "execution_count": null,
   "id": "ed74e6eb-47a5-4bfb-9354-35ebce27803e",
   "metadata": {},
   "outputs": [],
   "source": [
    "#doing the PCA for Control V.S. Alzeimers"
   ]
  },
  {
   "cell_type": "code",
   "execution_count": 2,
   "id": "a2555979-918e-4d81-b123-46c9b4216b0c",
   "metadata": {},
   "outputs": [],
   "source": [
    "import numpy as np\n",
    "import pandas as pd\n",
    "import matplotlib.pyplot as plt\n",
    "import seaborn as sns\n",
    "from sklearn.preprocessing import StandardScaler\n",
    "from sklearn.decomposition import PCA\n",
    "from sklearn.model_selection import GridSearchCV, cross_val_score\n",
    "from sklearn.metrics import accuracy_score, confusion_matrix\n",
    "from sklearn.cluster import KMeans\n",
    "from sklearn.svm import SVC\n",
    "from sklearn.linear_model import LogisticRegression\n",
    "from sklearn.naive_bayes import GaussianNB\n",
    "from sklearn.ensemble import RandomForestClassifier\n",
    "import mne\n",
    "import entropy as ent\n",
    "import neurokit2 as nk\n",
    "from scipy.signal import welch\n",
    "from nolds import lyap_r\n",
    "import antropy as ant\n",
    "import joblib"
   ]
  },
  {
   "cell_type": "code",
   "execution_count": 3,
   "id": "ca644504-3620-43be-ab10-60d3b73e4cdc",
   "metadata": {},
   "outputs": [],
   "source": [
    "#loading in the dataframs "
   ]
  },
  {
   "cell_type": "code",
   "execution_count": 9,
   "id": "c0f0ed01-ef89-4371-b89a-be00f6ed4f1f",
   "metadata": {},
   "outputs": [],
   "source": [
    "alzeimers_df = pd.read_csv(\"Alzeimers.csv\")\n",
    "alzeimers_df.set_index([\"Subject\", \"Channel\", \"Band\"], inplace=True)  # Restore MultiIndex manually"
   ]
  },
  {
   "cell_type": "code",
   "execution_count": 10,
   "id": "b626a7d2-1982-49a1-ab90-cbcf81822793",
   "metadata": {},
   "outputs": [],
   "source": [
    "# I don't think this is needed \n",
    "# participantsInfo = pd.read_table('./ds004504/participants.tsv')\n",
    "# #Getting all the groups\n",
    "# A_sub = participantsInfo[participantsInfo[\"Group\"] == \"A\"][\"participant_id\"].tolist()\n",
    "# C_sub = participantsInfo[participantsInfo[\"Group\"] == \"C\"][\"participant_id\"].tolist()\n",
    "# D_sub = participantsInfo[participantsInfo[\"Group\"] == \"F\"][\"participant_id\"].tolist()"
   ]
  },
  {
   "cell_type": "code",
   "execution_count": 11,
   "id": "cdda27ed-18cf-4fe1-b726-254656d140bf",
   "metadata": {},
   "outputs": [
    {
     "name": "stdout",
     "output_type": "stream",
     "text": [
      "Alzheimer's preview for sub-001\n",
      "                                                      Window Avg\n",
      "Channel Band                                                    \n",
      "Fp1     Delta  [np.float64(5.607240819161222e-07), np.float64...\n",
      "        Theta  [np.float64(1.4290601340850907e-08), np.float6...\n",
      "        Alpha  [np.float64(2.877208402057422e-09), np.float64...\n",
      "        Beta   [np.float64(5.046764330104262e-10), np.float64...\n",
      "Fp2     Delta  [np.float64(5.465781151565962e-07), np.float64...\n",
      "...                                                          ...\n",
      "Cz      Beta   [np.float64(3.205899994916665e-10), np.float64...\n",
      "Pz      Delta  [np.float64(1.5562185234722875e-07), np.float6...\n",
      "        Theta  [np.float64(4.1626502960822e-09), np.float64(7...\n",
      "        Alpha  [np.float64(1.2805820794756784e-09), np.float6...\n",
      "        Beta   [np.float64(3.338654724073159e-10), np.float64...\n",
      "\n",
      "[76 rows x 1 columns]\n"
     ]
    }
   ],
   "source": [
    "# Print Alzheimer's preview\n",
    "print(f\"Alzheimer's preview for sub-001\")\n",
    "print(alzeimers_df.loc['sub-001']) \n",
    "\n",
    "# # Print Control preview\n",
    "# print(f\"Control preview {C_sub[0]}\")\n",
    "# print(groups[\"Control\"].loc[C_sub[0]])  \n",
    "\n",
    "# # Print Dementia preview\n",
    "# print(f\"Dementia preview {D_sub[0]}\")\n",
    "# print(groups[\"Dementia\"].loc[D_sub[0]])  "
   ]
  },
  {
   "cell_type": "code",
   "execution_count": null,
   "id": "7c35cfbf-8594-4343-9be1-d896461259d0",
   "metadata": {},
   "outputs": [],
   "source": []
  }
 ],
 "metadata": {
  "kernelspec": {
   "display_name": "Python 3 (ipykernel)",
   "language": "python",
   "name": "python3"
  },
  "language_info": {
   "codemirror_mode": {
    "name": "ipython",
    "version": 3
   },
   "file_extension": ".py",
   "mimetype": "text/x-python",
   "name": "python",
   "nbconvert_exporter": "python",
   "pygments_lexer": "ipython3",
   "version": "3.9.6"
  }
 },
 "nbformat": 4,
 "nbformat_minor": 5
}
