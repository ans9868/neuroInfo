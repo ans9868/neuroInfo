{
 "cells": [
  {
   "cell_type": "code",
   "execution_count": 22,
   "id": "b72ef582-9253-41a8-a8f3-dd58c95ec399",
   "metadata": {},
   "outputs": [],
   "source": [
    "import numpy as np\n",
    "import pandas as pd\n",
    "import matplotlib.pyplot as plt\n",
    "import seaborn as sns\n",
    "from sklearn.preprocessing import StandardScaler\n",
    "from sklearn.decomposition import PCA\n",
    "from sklearn.model_selection import GridSearchCV, cross_val_score\n",
    "from sklearn.metrics import accuracy_score, confusion_matrix\n",
    "from sklearn.cluster import KMeans\n",
    "from sklearn.svm import SVC\n",
    "from sklearn.linear_model import LogisticRegression\n",
    "from sklearn.naive_bayes import GaussianNB\n",
    "from sklearn.ensemble import RandomForestClassifier\n",
    "import mne\n",
    "import entropy as ent\n",
    "import neurokit2 as nk\n",
    "from scipy.signal import welch\n",
    "from nolds import lyap_r\n",
    "import antropy as ant\n",
    "import joblib"
   ]
  },
  {
   "cell_type": "code",
   "execution_count": 26,
   "id": "2439f158-be51-473b-98e7-1df31fef728b",
   "metadata": {},
   "outputs": [],
   "source": [
    "participantsInfo = pd.read_table('./ds004504/participants.tsv')\n",
    "#Getting all the groups\n",
    "A_sub = participantsInfo[participantsInfo[\"Group\"] == \"A\"][\"participant_id\"].tolist()\n",
    "C_sub = participantsInfo[participantsInfo[\"Group\"] == \"C\"][\"participant_id\"].tolist()\n",
    "D_sub = participantsInfo[participantsInfo[\"Group\"] == \"F\"][\"participant_id\"].tolist()"
   ]
  },
  {
   "cell_type": "code",
   "execution_count": 27,
   "id": "a5898383-638c-4c4f-89fa-3cfa930e3978",
   "metadata": {},
   "outputs": [],
   "source": [
    "freq_bands = {\n",
    "    \"Delta\": (0.5, 4),\n",
    "    \"Theta\": (4, 8),\n",
    "    \"Alpha\": (8, 12),\n",
    "    \"Beta\": (12, 30),\n",
    "}\n",
    "\n",
    "import pandas as pd\n",
    "import numpy as np \n",
    "\n",
    "#this generates the dataframe persubject\n",
    "def generate_subject_dataframe(subjects) -> pd.DataFrame:\n",
    "    \"\"\"\n",
    "    Generates a DataFrame where each subject has 19 channels, \n",
    "    and each channel has 4 bands (Delta, Theta, Alpha, Beta).\n",
    "    \n",
    "    Parameters:\n",
    "        num_subjects (int): Number of subjects to include in the DataFrame.\n",
    "    \n",
    "    Returns:\n",
    "        pd.DataFrame: A DataFrame with hierarchical indexing for subjects, channels, and bands for each window.\n",
    "    \"\"\"\n",
    "    # subjects = [f\"sub-{i:03d}\" for i in range(start_sub, end_sub + 1)]  # Format subject IDs as sub-XXX\n",
    "    channels = ['Fp1', 'Fp2', 'F3', 'F4', 'C3', 'C4', 'P3', 'P4', 'O1', 'O2', 'F7', 'F8', 'T3', 'T4', 'T5', 'T6', 'Fz', 'Cz', 'Pz']\n",
    "    bands = [\"Delta\", \"Theta\", \"Alpha\", \"Beta\"]\n",
    "    \n",
    "    data = []\n",
    "    for subject in subjects:\n",
    "        for channel in channels:\n",
    "            for band, val in freq_bands.items():\n",
    "                value = np.random.rand()  # Example random value, replace with actual data if needed\n",
    "                data.append([subject, channel, band, []])\n",
    "    \n",
    "    df = pd.DataFrame(data, columns=[\"Subject\", \"Channel\", \"Band\", \"Window Avg\"])\n",
    "\n",
    "    #the .setIndex is creating a multiIndex DataFrame\n",
    "    return df.set_index([\"Subject\", \"Channel\", \"Band\"])\n",
    "\n",
    "\n",
    "    # Example usage:\n",
    "# df = generate_subject_dataframe(5)  # Generates a DataFrame for 5 subjects\n",
    "# print(df)"
   ]
  },
  {
   "cell_type": "code",
   "execution_count": 84,
   "id": "2ebb5f5d-b16f-4cae-ab89-052ed0ee6796",
   "metadata": {},
   "outputs": [],
   "source": [
    "def derivativesPath(sub): #dericatives is the preprocessed data\n",
    "    return f\"ds004504/{sub}/eeg/{sub}_task-eyesclosed_eeg.set\"\n",
    "\n",
    "\n",
    "\n",
    "NUM_SUBJECTS = 2\n",
    "# Use the function inside the groups dictionary\n",
    "groups = {\n",
    "    'Alzeimers': generate_subject_dataframe(A_sub[0:NUM_SUBJECTS]),\n",
    "    'Control': generate_subject_dataframe(C_sub[0:NUM_SUBJECTS]),\n",
    "    'Dementia': generate_subject_dataframe(D_sub[0:NUM_SUBJECTS]),\n",
    "}\n",
    "\n",
    "# Print the DataFrame for 'Alzeimers'\n",
    "\n",
    "# WINDOW_LENGTH = 1.5\n",
    "# STEP_SIZE = .75 #50% sliding window\n",
    "WINDOW_LENGTH = NUM_SUBJECTS\n",
    "STEP_SIZE = 1.5"
   ]
  },
  {
   "cell_type": "code",
   "execution_count": 85,
   "id": "832a9b3b-8d03-433c-bc35-11c40b86e9b7",
   "metadata": {},
   "outputs": [
    {
     "name": "stdout",
     "output_type": "stream",
     "text": [
      "['sub-001', 'sub-002']\n"
     ]
    }
   ],
   "source": [
    "print(A_sub[0:NUM_SUBJECTS])"
   ]
  },
  {
   "cell_type": "code",
   "execution_count": 86,
   "id": "779fc395-10af-42b7-9304-abc444685707",
   "metadata": {},
   "outputs": [
    {
     "name": "stdout",
     "output_type": "stream",
     "text": [
      "                      Window Avg\n",
      "Subject Channel Band            \n",
      "sub-001 Fp1     Delta         []\n",
      "                Theta         []\n",
      "                Alpha         []\n",
      "                Beta          []\n",
      "        Fp2     Delta         []\n",
      "...                          ...\n",
      "sub-002 Cz      Beta          []\n",
      "        Pz      Delta         []\n",
      "                Theta         []\n",
      "                Alpha         []\n",
      "                Beta          []\n",
      "\n",
      "[152 rows x 1 columns]\n",
      "                      Window Avg\n",
      "Subject Channel Band            \n",
      "sub-037 Fp1     Delta         []\n",
      "                Theta         []\n",
      "                Alpha         []\n",
      "                Beta          []\n",
      "        Fp2     Delta         []\n",
      "...                          ...\n",
      "sub-038 Cz      Beta          []\n",
      "        Pz      Delta         []\n",
      "                Theta         []\n",
      "                Alpha         []\n",
      "                Beta          []\n",
      "\n",
      "[152 rows x 1 columns]\n",
      "                      Window Avg\n",
      "Subject Channel Band            \n",
      "sub-066 Fp1     Delta         []\n",
      "                Theta         []\n",
      "                Alpha         []\n",
      "                Beta          []\n",
      "        Fp2     Delta         []\n",
      "...                          ...\n",
      "sub-067 Cz      Beta          []\n",
      "        Pz      Delta         []\n",
      "                Theta         []\n",
      "                Alpha         []\n",
      "                Beta          []\n",
      "\n",
      "[152 rows x 1 columns]\n"
     ]
    }
   ],
   "source": [
    "print(groups['Alzeimers'])\n",
    "print(groups['Control'])\n",
    "print(groups['Dementia'])"
   ]
  },
  {
   "cell_type": "markdown",
   "id": "c18f517b-07fb-467a-b73c-f6aa94b25b16",
   "metadata": {},
   "source": [
    "# ** this is the part where we would do a for loop per group, per subject in that group **\n"
   ]
  },
  {
   "cell_type": "code",
   "execution_count": 90,
   "id": "08bf2db2-83cd-4bfe-896d-f47d40cf785b",
   "metadata": {
    "scrolled": true
   },
   "outputs": [
    {
     "name": "stdout",
     "output_type": "stream",
     "text": [
      "Current Group: Alzeimers\n",
      "\tCurrent Subject: sub-001\n",
      "\tCurrent Subject: sub-002\n",
      "Current Group: Control\n",
      "\tCurrent Subject: sub-037\n",
      "\tCurrent Subject: sub-038\n",
      "Current Group: Dementia\n",
      "\tCurrent Subject: sub-066\n",
      "\tCurrent Subject: sub-067\n",
      "34.130183935165405\n"
     ]
    }
   ],
   "source": [
    "import time\n",
    "start = time.time()\n",
    "#** how to run this in parallel, speciall the computer PSD for each epoch\n",
    "for group in groups:\n",
    "    print(f'Current Group: {group}')\n",
    "    df = groups[group]\n",
    "\n",
    "    subjects = df.index.get_level_values(\"Subject\").unique()\n",
    "    for subject in subjects:\n",
    "        raw_sub = mne.io.read_raw_eeglab(derivativesPath(subject), preload=True)\n",
    "        # sfreq = raw_sub.info['sfreq']\n",
    "        # start_times = np.arange(0, raw_sub.times[-1] - WINDOW_LENGTH, STEP_SIZE)\n",
    "        # events = np.array([\n",
    "        #     [int(t * sfreq), 0, 1] for t in start_times  # MNE event format\n",
    "        # ])\n",
    "        \n",
    "        # Create epochs with a fixed window size\n",
    "        print(f'\\tCurrent Subject: {subject}')\n",
    "\n",
    "        start_times = np.arange(0, raw_sub.times[-1] - WINDOW_LENGTH, STEP_SIZE) \n",
    "        events = np.array([\n",
    "        [int(t * sfreq), 0, 1] for t in start_times  # MNE event format\n",
    "        ]) \n",
    "        \n",
    "        epochs = mne.Epochs(\n",
    "            raw_sub, events, event_id=1,\n",
    "            tmin=0, tmax=WINDOW_LENGTH,\n",
    "            baseline=None, detrend=1, preload=True, verbose=False\n",
    "        )\n",
    "\n",
    "        channel_names = raw_sub.info['ch_names']\n",
    "\n",
    "        for x in range(len(epochs)):\n",
    "            pass\n",
    "            epoch = epochs[x]\n",
    "            epoch_psd = epoch.compute_psd(fmin=freq_bands[\"Delta\"][0], fmax=freq_bands[\"Beta\"][1], verbose=False) #computing the max PSD between the wave lengths\n",
    "            #print(f'Current epock: {x}') \n",
    "            for channel_name in channel_names:\n",
    "                        pass\n",
    "                        # print(f'\\t\\tCurrent channel: {channel_name}')\n",
    "                        for band, (band_low, band_high) in freq_bands.items():   \n",
    "                            pass\n",
    "                            #print(f'Current band: {band}')\n",
    "                            channel_at_freq = epoch_psd.get_data(picks=channel_name , fmin=band_low, fmax=band_high)\n",
    "                            channel_at_freq_avg = channel_at_freq.mean(axis=-1)[0][0] # am I computing the average correctly ? \n",
    "                            groups[group].loc[(subject, channel_name, band), \"Window Avg\"].append(channel_at_freq_avg)\n",
    "\n",
    "\n",
    "\n",
    "print(time.time() - start)"
   ]
  },
  {
   "cell_type": "code",
   "execution_count": null,
   "id": "e7cde096-22cd-4c59-b8e2-b2b31e5abb36",
   "metadata": {},
   "outputs": [],
   "source": [
    "print(groups['Control'].loc[('sub-037', 'Fp1', 'Delta'), \"Window Avg\"])"
   ]
  },
  {
   "cell_type": "code",
   "execution_count": 83,
   "id": "025eeb1a-c001-429d-83e4-7406f63b74ec",
   "metadata": {},
   "outputs": [
    {
     "name": "stdout",
     "output_type": "stream",
     "text": [
      "Alzheimer's preview\n",
      "                                                      Window Avg\n",
      "Channel Band                                                    \n",
      "Fp1     Delta  [3.744050794063199e-07, 8.463494420020506e-08,...\n",
      "        Theta  [6.68739374933709e-08, 1.8699568839767234e-08,...\n",
      "        Alpha  [3.0649640627444323e-09, 3.347787428364457e-09...\n",
      "        Beta   [5.693242372080002e-10, 4.4990780359780607e-10...\n",
      "Fp2     Delta  [4.6518360306361173e-07, 1.0043943055723092e-0...\n",
      "...                                                          ...\n",
      "Cz      Beta   [2.533601727053066e-10, 2.64119551982583e-10, ...\n",
      "Pz      Delta  [4.489575608128179e-08, 5.7632888286032294e-08...\n",
      "        Theta  [8.276518613773466e-09, 9.63988158105805e-09, ...\n",
      "        Alpha  [1.8940898838911696e-09, 1.0045013973653863e-0...\n",
      "        Beta   [3.147191476995452e-10, 2.5674612581792283e-10...\n",
      "\n",
      "[76 rows x 1 columns]\n",
      "Dementia preview\n",
      "                                                      Window Avg\n",
      "Channel Band                                                    \n",
      "Fp1     Delta  [1.3272745689953265e-08, 4.020566108383554e-08...\n",
      "        Theta  [9.450998384765602e-09, 8.397802413345318e-09,...\n",
      "        Alpha  [3.208357698938147e-09, 1.545681548472014e-09,...\n",
      "        Beta   [3.4285514963247807e-10, 3.7034754905816126e-1...\n",
      "Fp2     Delta  [2.1271602102964123e-08, 4.6629364149346424e-0...\n",
      "...                                                          ...\n",
      "Cz      Beta   [1.9159604145405833e-10, 4.3327970392950396e-1...\n",
      "Pz      Delta  [9.144610039233784e-09, 4.0836339806129853e-08...\n",
      "        Theta  [4.870691827418432e-09, 1.240498449166338e-08,...\n",
      "        Alpha  [8.725389355016617e-10, 3.715976779536049e-09,...\n",
      "        Beta   [1.7806725082662285e-10, 5.171649020485782e-10...\n",
      "\n",
      "[76 rows x 1 columns]\n",
      "Control preview\n",
      "                                                      Window Avg\n",
      "Channel Band                                                    \n",
      "Fp1     Delta  [6.035160012182573e-08, 9.380920251972911e-08,...\n",
      "        Theta  [2.0067154116942374e-08, 1.5454831958162585e-0...\n",
      "        Alpha  [6.576283028346202e-09, 3.213055820216697e-09,...\n",
      "        Beta   [4.878473790989252e-10, 5.748292876471975e-10,...\n",
      "Fp2     Delta  [4.7698071170908565e-08, 6.665363683871655e-08...\n",
      "...                                                          ...\n",
      "Cz      Beta   [5.245004974045759e-10, 4.793492201343691e-10,...\n",
      "Pz      Delta  [5.176550866006356e-08, 8.023249588800431e-08,...\n",
      "        Theta  [1.9964208111051207e-08, 1.0916074633511307e-0...\n",
      "        Alpha  [3.9342418026536624e-09, 3.430161274513769e-09...\n",
      "        Beta   [5.074509345630383e-10, 5.1972018098033e-10, 3...\n",
      "\n",
      "[76 rows x 1 columns]\n"
     ]
    }
   ],
   "source": [
    "# Print Alzheimer's preview\n",
    "print(\"Alzheimer's preview\")\n",
    "print(groups[\"Alzeimers\"].loc[A_sub[0]])  # Fix: A_sub instead of 'Alzeimers'\n",
    "\n",
    "# Print Dementia preview\n",
    "print(\"Dementia preview\")\n",
    "print(groups[\"Dementia\"].loc[D_sub[0]])  # Fix: D_sub instead of 'Dementia'\n",
    "\n",
    "# Print Control preview\n",
    "print(\"Control preview\")\n",
    "print(groups[\"Control\"].loc[C_sub[0]])  # Fix: C_sub instead of 'Control'"
   ]
  },
  {
   "cell_type": "code",
   "execution_count": null,
   "id": "9e2c70dc-ffec-4bd5-9aff-c92205d3a93f",
   "metadata": {},
   "outputs": [],
   "source": []
  }
 ],
 "metadata": {
  "kernelspec": {
   "display_name": "Python 3 (ipykernel)",
   "language": "python",
   "name": "python3"
  },
  "language_info": {
   "codemirror_mode": {
    "name": "ipython",
    "version": 3
   },
   "file_extension": ".py",
   "mimetype": "text/x-python",
   "name": "python",
   "nbconvert_exporter": "python",
   "pygments_lexer": "ipython3",
   "version": "3.9.6"
  }
 },
 "nbformat": 4,
 "nbformat_minor": 5
}
