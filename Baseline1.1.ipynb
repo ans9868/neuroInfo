{
 "cells": [
  {
   "cell_type": "code",
   "execution_count": 1,
   "id": "11696be0-a081-40a1-a6a8-4b44fa528a5e",
   "metadata": {},
   "outputs": [],
   "source": [
    "import numpy as np\n",
    "import pandas as pd\n",
    "import matplotlib.pyplot as plt\n",
    "import seaborn as sns\n",
    "from sklearn.preprocessing import StandardScaler\n",
    "from sklearn.decomposition import PCA\n",
    "from sklearn.model_selection import GridSearchCV, cross_val_score\n",
    "from sklearn.metrics import accuracy_score, confusion_matrix\n",
    "from sklearn.cluster import KMeans\n",
    "from sklearn.svm import SVC\n",
    "from sklearn.linear_model import LogisticRegression\n",
    "from sklearn.naive_bayes import GaussianNB\n",
    "from sklearn.ensemble import RandomForestClassifier\n",
    "import mne\n",
    "import entropy as ent\n",
    "import neurokit2 as nk\n",
    "from scipy.signal import welch\n",
    "from nolds import lyap_r\n",
    "import antropy as ant"
   ]
  },
  {
   "cell_type": "code",
   "execution_count": 10,
   "id": "d1b4dba1-6658-4e50-a3c2-dc3380897e09",
   "metadata": {},
   "outputs": [],
   "source": [
    "participantsInfo = pd.read_table('./ds004504/participants.tsv')\n",
    "#Getting all the groups\n",
    "A_sub = participantsInfo[participantsInfo[\"Group\"] == \"A\"][\"participant_id\"].tolist()\n",
    "C_sub = participantsInfo[participantsInfo[\"Group\"] == \"C\"][\"participant_id\"].tolist()\n",
    "F_sub = participantsInfo[participantsInfo[\"Group\"] == \"F\"][\"participant_id\"].tolist()"
   ]
  },
  {
   "cell_type": "code",
   "execution_count": 4,
   "id": "6a586898-422b-4f47-823f-5c95ed13fb03",
   "metadata": {},
   "outputs": [
    {
     "name": "stdout",
     "output_type": "stream",
     "text": [
      "                         Window Avg\n",
      "Subject Channel    Band            \n",
      "sub-001 Channel-1  Delta         []\n",
      "                   Theta         []\n",
      "                   Alpha         []\n",
      "                   Beta          []\n",
      "        Channel-2  Delta         []\n",
      "...                             ...\n",
      "sub-005 Channel-18 Beta          []\n",
      "        Channel-19 Delta         []\n",
      "                   Theta         []\n",
      "                   Alpha         []\n",
      "                   Beta          []\n",
      "\n",
      "[380 rows x 1 columns]\n"
     ]
    }
   ],
   "source": [
    "freq_bands = {\n",
    "    \"Delta\": (0.5, 4),\n",
    "    \"Theta\": (4, 8),\n",
    "    \"Alpha\": (8, 12),\n",
    "    \"Beta\": (12, 30),\n",
    "}\n",
    "\n",
    "import pandas as pd\n",
    "import numpy as np \n",
    "\n",
    "def generate_subject_dataframe(num_subjects: int) -> pd.DataFrame:\n",
    "    \"\"\"\n",
    "    Generates a DataFrame where each subject has 19 channels, \n",
    "    and each channel has 4 bands (Delta, Theta, Alpha, Beta).\n",
    "    \n",
    "    Parameters:\n",
    "        num_subjects (int): Number of subjects to include in the DataFrame.\n",
    "    \n",
    "    Returns:\n",
    "        pd.DataFrame: A DataFrame with hierarchical indexing for subjects, channels, and bands for each window.\n",
    "    \"\"\"\n",
    "    subjects = [f\"sub-{i+1:03d}\" for i in range(num_subjects)]  # Format subject IDs as sub-XXX\n",
    "    channels = [f\"Channel-{i+1}\" for i in range(19)]\n",
    "    bands = [\"Delta\", \"Theta\", \"Alpha\", \"Beta\"]\n",
    "    \n",
    "    data = []\n",
    "    for subject in subjects:\n",
    "        for channel in channels:\n",
    "            for band, val in freq_bands.items():\n",
    "                data.append([subject, channel, band, []])\n",
    "    \n",
    "    df = pd.DataFrame(data, columns=[\"Subject\", \"Channel\", \"Band\", \"Window Avg\"])\n",
    "\n",
    "    #the .setIndex is creating a multiIndex DataFrame\n",
    "    return df.set_index([\"Subject\", \"Channel\", \"Band\"])\n",
    "\n",
    "# Example usage:\n",
    "df = generate_subject_dataframe(5)  # Generates a DataFrame for 5 subjects\n",
    "print(df)"
   ]
  },
  {
   "cell_type": "code",
   "execution_count": 5,
   "id": "822a47d3-e285-4375-b366-f4d2aa08dd5d",
   "metadata": {},
   "outputs": [],
   "source": [
    "def derivativesPath(sub): #dericatives is the preprocessed data\n",
    "    return f\"ds004504/{sub}/eeg/{sub}_task-eyesclosed_eeg.set\"\n",
    "\n",
    "\n",
    "\n",
    "NUM_SUBJECTS = 3\n",
    "# Use the function inside the groups dictionary\n",
    "groups = {\n",
    "    'Alzeimers': generate_subject_dataframe(NUM_SUBJECTS),\n",
    "    'Control': generate_subject_dataframe(NUM_SUBJECTS),\n",
    "    'Dementia': generate_subject_dataframe(NUM_SUBJECTS),\n",
    "}\n",
    "\n",
    "# Print the DataFrame for 'Alzeimers'\n",
    "\n",
    "WINDOW_LENGTH = 1.5\n",
    "STEP_SIZE = .75 #50% sliding window\n"
   ]
  },
  {
   "cell_type": "code",
   "execution_count": 7,
   "id": "72346902-ac69-4142-91bf-f2cd8a8ca302",
   "metadata": {},
   "outputs": [],
   "source": [
    "# ** this is the part where we would do a for loop per group, per subject in that group **"
   ]
  },
  {
   "cell_type": "code",
   "execution_count": 8,
   "id": "f78ae268-eb56-49a7-b166-7e933c020e81",
   "metadata": {},
   "outputs": [],
   "source": [
    "#*this data would be from forloop variables ... for group in groups ... for subject in NUM_SUBJECTS:\n",
    "group = 'Alzeimers'\n",
    "index = 0"
   ]
  },
  {
   "cell_type": "code",
   "execution_count": 37,
   "id": "a56714c8-510b-4e1e-a72d-467972f740f9",
   "metadata": {},
   "outputs": [],
   "source": [
    "current_sub = F_sub[index]\n",
    "raw_sub = mne.io.read_raw_eeglab(derivativesPath(current_sub), preload=True)\n",
    "sfreq = raw_sub.info['sfreq']"
   ]
  },
  {
   "cell_type": "code",
   "execution_count": 38,
   "id": "fbd2c568-ce15-446e-a7b1-ec0c984f8ce0",
   "metadata": {},
   "outputs": [],
   "source": [
    "start_times = np.arange(0, raw_sub.times[-1] - WINDOW_LENGTH, STEP_SIZE)\n",
    "# a_window_start, a_window_end = (window_index*STEP_SIZE, window_index*STEP_SIZE + WINDOW_LENGTH) "
   ]
  },
  {
   "cell_type": "code",
   "execution_count": 39,
   "id": "a84c22b3-4c32-4ba3-b7a7-6b78d7f8e726",
   "metadata": {},
   "outputs": [
    {
     "name": "stdout",
     "output_type": "stream",
     "text": [
      "Effective window size : 4.096 (s)\n"
     ]
    }
   ],
   "source": [
    "# options are welch, multitaper and TFR (if we do per epoch) \n",
    "psd_sub = raw_sub.compute_psd(method='welch', fmin=0.5, fmax=30)\n",
    "#psd_sub.plot()"
   ]
  },
  {
   "cell_type": "code",
   "execution_count": 42,
   "id": "810af258-ac45-4035-94b7-0687bfb5e806",
   "metadata": {},
   "outputs": [
    {
     "name": "stdout",
     "output_type": "stream",
     "text": [
      "[[1.06630219e-09 6.43667644e-10 4.46297007e-10 3.21515806e-10\n",
      "  2.45606684e-10 1.73485674e-10 1.46972160e-10 1.18401268e-10\n",
      "  8.94080491e-11 6.28021275e-11 4.77541212e-11 5.05580573e-11\n",
      "  3.89099882e-11 3.01063308e-11]]\n"
     ]
    }
   ],
   "source": [
    "sub_delta = psd_sub.get_data(picks='Fp1', fmin=0.5, fmax = 4 ) \n",
    "print(sub_delta)"
   ]
  },
  {
   "cell_type": "code",
   "execution_count": 43,
   "id": "98073d75-68a8-419a-86d6-140e76ed7e09",
   "metadata": {},
   "outputs": [
    {
     "name": "stdout",
     "output_type": "stream",
     "text": [
      "2.4869907872974233e-10\n"
     ]
    }
   ],
   "source": [
    "print(sub_delta.mean(axis=-1)[0])"
   ]
  },
  {
   "cell_type": "code",
   "execution_count": 32,
   "id": "a2a5a896-a61e-4f2a-b4a4-7d496ec2709f",
   "metadata": {},
   "outputs": [
    {
     "name": "stdout",
     "output_type": "stream",
     "text": [
      "['Fp1', 'Fp2', 'F3', 'F4', 'C3', 'C4', 'P3', 'P4', 'O1', 'O2', 'F7', 'F8', 'T3', 'T4', 'T5', 'T6', 'Fz', 'Cz', 'Pz']\n"
     ]
    }
   ],
   "source": [
    "print(psd_sub.info['ch_names'])"
   ]
  },
  {
   "cell_type": "code",
   "execution_count": null,
   "id": "f6be6d6f-5412-4eb7-94b9-1488ebd866d8",
   "metadata": {},
   "outputs": [],
   "source": []
  }
 ],
 "metadata": {
  "kernelspec": {
   "display_name": "Python 3 (ipykernel)",
   "language": "python",
   "name": "python3"
  },
  "language_info": {
   "codemirror_mode": {
    "name": "ipython",
    "version": 3
   },
   "file_extension": ".py",
   "mimetype": "text/x-python",
   "name": "python",
   "nbconvert_exporter": "python",
   "pygments_lexer": "ipython3",
   "version": "3.9.6"
  }
 },
 "nbformat": 4,
 "nbformat_minor": 5
}
