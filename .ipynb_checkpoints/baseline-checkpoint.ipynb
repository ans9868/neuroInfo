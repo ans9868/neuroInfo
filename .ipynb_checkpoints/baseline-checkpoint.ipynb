{
 "cells": [
  {
   "cell_type": "code",
   "execution_count": 2,
   "id": "47877e2d-da98-4aab-aff2-b45e2110508a",
   "metadata": {},
   "outputs": [],
   "source": [
    "import numpy as np\n",
    "import pandas as pd\n",
    "import matplotlib.pyplot as plt\n",
    "import seaborn as sns\n",
    "from sklearn.preprocessing import StandardScaler\n",
    "from sklearn.decomposition import PCA\n",
    "from sklearn.model_selection import GridSearchCV, cross_val_score\n",
    "from sklearn.metrics import accuracy_score, confusion_matrix\n",
    "from sklearn.cluster import KMeans\n",
    "from sklearn.svm import SVC\n",
    "from sklearn.linear_model import LogisticRegression\n",
    "from sklearn.naive_bayes import GaussianNB\n",
    "from sklearn.ensemble import RandomForestClassifier\n",
    "import mne"
   ]
  },
  {
   "cell_type": "code",
   "execution_count": 14,
   "id": "ba482d62-a547-4e9a-ad40-380984dfdba0",
   "metadata": {},
   "outputs": [],
   "source": [
    "import numpy as np\n",
    "import mne\n",
    "import entropy as ent\n",
    "import neurokit2 as nk\n",
    "from scipy.signal import welch\n",
    "from nolds import lyap_r\n",
    "import antropy as ant"
   ]
  },
  {
   "cell_type": "markdown",
   "id": "399ed0e6-cdad-4078-8a60-215e1e6bc6bf",
   "metadata": {},
   "source": [
    "# Putting in the Epochs"
   ]
  },
  {
   "cell_type": "code",
   "execution_count": 4,
   "id": "cda9121b-5c4f-4b5e-a3e9-77cbce964858",
   "metadata": {},
   "outputs": [],
   "source": [
    "participantsInfo = pd.read_table('./ds004504/participants.tsv')"
   ]
  },
  {
   "cell_type": "code",
   "execution_count": 5,
   "id": "01a2ad20-8468-4c99-b140-4c56478268d6",
   "metadata": {},
   "outputs": [],
   "source": [
    "#Getting all the groups\n",
    "A_sub = participantsInfo[participantsInfo[\"Group\"] == \"A\"][\"participant_id\"].tolist()\n",
    "C_sub = participantsInfo[participantsInfo[\"Group\"] == \"C\"][\"participant_id\"].tolist()\n",
    "F_sub = participantsInfo[participantsInfo[\"Group\"] == \"F\"][\"participant_id\"].tolist()"
   ]
  },
  {
   "cell_type": "code",
   "execution_count": 6,
   "id": "baecd827-8ddf-45c1-b0ef-5108ebd0f3d2",
   "metadata": {},
   "outputs": [],
   "source": [
    "#putting in the epocks, should I combine into one large recording for each group? I think no"
   ]
  },
  {
   "cell_type": "code",
   "execution_count": 7,
   "id": "a302da26-6868-42e6-b323-310c250b49ce",
   "metadata": {},
   "outputs": [],
   "source": [
    "def derivativesPath(sub):\n",
    "    return f\"ds004504/{sub}/eeg/{sub}_task-eyesclosed_eeg.set\""
   ]
  },
  {
   "cell_type": "code",
   "execution_count": 11,
   "id": "43602319-c367-47d9-87b2-472e7be94204",
   "metadata": {},
   "outputs": [],
   "source": [
    "#testing the sliding window with a tsingle participant \n",
    "\n",
    "raw = mne.io.read_raw_eeglab(derivativesPath(A_sub[0]), preload=True)"
   ]
  },
  {
   "cell_type": "code",
   "execution_count": 12,
   "id": "12ba2a1c-9684-4937-bada-9d375b409aee",
   "metadata": {},
   "outputs": [
    {
     "name": "stdout",
     "output_type": "stream",
     "text": [
      "Not setting metadata\n",
      "798 matching events found\n",
      "No baseline correction applied\n",
      "0 projection items activated\n",
      "Using data from preloaded Raw for 798 events and 751 original time points ...\n",
      "0 bad epochs dropped\n",
      "<Epochs | 798 events (all good), 0 – 1.5 s (baseline off), ~86.9 MB, data loaded,\n",
      " '1': 798>\n"
     ]
    }
   ],
   "source": [
    "#parameters\n",
    "window_length = 1.5\n",
    "step_size = .75 #50% sliding window\n",
    "sfreq = raw.info['sfreq']\n",
    "\n",
    "\n",
    "start_times = np.arange(0, raw.times[-1] - window_length, step_size)\n",
    "events = np.array([\n",
    "    [int(t * sfreq), 0, 1] for t in start_times  # MNE event format\n",
    "])\n",
    "\n",
    "# Create epochs with a fixed window size\n",
    "epochs = mne.Epochs(\n",
    "    raw, events, event_id=1,\n",
    "    tmin=0, tmax=window_length,\n",
    "    baseline=None, detrend=1, preload=True\n",
    ")\n",
    "\n",
    "# Now, `epochs` contains your sliding windows\n",
    "print(epochs)"
   ]
  },
  {
   "cell_type": "code",
   "execution_count": 15,
   "id": "cc54f5ec-fc0d-4ed0-9179-8d8393e15e63",
   "metadata": {},
   "outputs": [],
   "source": [
    "# for each window ... for each electrode ... calculate band power for Delta through Beta waves"
   ]
  },
  {
   "cell_type": "code",
   "execution_count": null,
   "id": "70ee220e-1568-4575-9869-bb9606cc958d",
   "metadata": {},
   "outputs": [],
   "source": [
    "\n"
   ]
  }
 ],
 "metadata": {
  "kernelspec": {
   "display_name": "Python 3 (ipykernel)",
   "language": "python",
   "name": "python3"
  },
  "language_info": {
   "codemirror_mode": {
    "name": "ipython",
    "version": 3
   },
   "file_extension": ".py",
   "mimetype": "text/x-python",
   "name": "python",
   "nbconvert_exporter": "python",
   "pygments_lexer": "ipython3",
   "version": "3.9.6"
  }
 },
 "nbformat": 4,
 "nbformat_minor": 5
}
