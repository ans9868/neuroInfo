{
 "cells": [
  {
   "cell_type": "code",
   "execution_count": 10,
   "id": "c06146bb-6bc8-4214-b53d-4fb6dc6e13cb",
   "metadata": {},
   "outputs": [],
   "source": [
    "import numpy as np\n",
    "import pandas as pd\n",
    "import matplotlib.pyplot as plt\n",
    "import seaborn as sns\n",
    "from sklearn.preprocessing import StandardScaler\n",
    "from sklearn.decomposition import PCA\n",
    "from sklearn.model_selection import GridSearchCV, cross_val_score\n",
    "from sklearn.metrics import accuracy_score, confusion_matrix\n",
    "from sklearn.cluster import KMeans\n",
    "from sklearn.svm import SVC\n",
    "from sklearn.linear_model import LogisticRegression\n",
    "from sklearn.naive_bayes import GaussianNB\n",
    "from sklearn.ensemble import RandomForestClassifier\n",
    "import mne"
   ]
  },
  {
   "cell_type": "markdown",
   "id": "0ae29ae0-1c06-4105-9064-bf599987dec2",
   "metadata": {},
   "source": [
    "# Participant Overview\n",
    "\n",
    "Here are the participants, totaling 88 individuals:\n",
    "\n",
    "- **Alzheimer's Disease (AD) Group**: 36 participants\n",
    "- **Frontotemporal Dementia (FTD) Group**: 23 participants\n",
    "- **Healthy Controls (CN) Group**: 29 participants\n",
    "\n",
    "## Dataset Access\n",
    "\n",
    "The dataset is available at:\n",
    "\n",
    "- [OpenNeuro Dataset ds004504](https://openneuro.org/datasets/ds004504/versions/1.0.8)\n",
    "\n",
    "## Participant Details\n",
    "\n",
    "- **Mini-Mental State Examination (MMSE) Scores**:\n",
    "\n",
    "  - AD Group: Average MMSE = 17.75 (SD = 4.5)\n",
    "  - FTD Group: Average MMSE = 22.17 (SD = 8.22)\n",
    "  - CN Group: MMSE = 30\n",
    "\n",
    "- **Mean Ages**:\n",
    "\n",
    "  - AD Group: Mean Age = 66.4 years (SD = 7.9)\n",
    "  - FTD Group: Mean Age = 63.6 years (SD = 8.2)\n",
    "  - CN Group: Mean Age = 67.9 years (SD = 5.4)\n",
    "\n",
    "- **Recording Durations**:\n",
    "\n",
    "  - AD Group: Total = 485.5 minutes\n",
    "  - FTD Group: Total = 276.5 minutes\n",
    "  - CN Group: Total = 402 minutes\n",
    "\n",
    "These recordings were collected using a clinical EEG system with 19 scalp electrodes, following the 10–20 international system. Each recording lasted approximately 13.5 minutes for the AD group, 12 minutes for the FTD group, and 13.8 minutes for the CN group.\n",
    "The EEG recordings were exported in .eeg format and are transformed to BIDS accepted .set format for the inclusion in the dataset. ([mdpi.com](https://www.mdpi.com/2306-5729/8/6/95))\n",
    "\n",
    "For more detailed information, please refer to the dataset description:\n",
    "\n",
    "- [Dataset Description on GitHub](https://github.com/OpenNeuroDatasets/ds004504/blob/main/dataset_description.json)\n"
   ]
  },
  {
   "cell_type": "code",
   "execution_count": 16,
   "id": "94dffbe2-59a8-430f-9012-51f1a727b8bb",
   "metadata": {},
   "outputs": [
    {
     "data": {
      "text/plain": [
       "'\\nData quality/format:\\nPreprocessing: The EEG recordings were exported in .eeg format and are transformed to BIDS accepted .set format for the inclusion in the dataset. \\n'"
      ]
     },
     "execution_count": 16,
     "metadata": {},
     "output_type": "execute_result"
    }
   ],
   "source": [
    "'''\n",
    "Data quality/format:\n",
    "Preprocessing: The EEG recordings were exported in .eeg format and are transformed to BIDS accepted .set format for the inclusion in the dataset. \n",
    "'''"
   ]
  },
  {
   "cell_type": "code",
   "execution_count": 9,
   "id": "9d35f77c-ec2e-44f5-b7c6-13623397d8b2",
   "metadata": {},
   "outputs": [
    {
     "name": "stdout",
     "output_type": "stream",
     "text": [
      "  participant_id Gender  Age Group  MMSE\n",
      "0        sub-001      F   57     A    16\n",
      "1        sub-002      F   78     A    22\n",
      "2        sub-003      M   70     A    14\n",
      "3        sub-004      F   67     A    20\n",
      "4        sub-005      M   70     A    22\n"
     ]
    }
   ],
   "source": [
    "participantsInfo = pd.read_table('./data/participants.tsv')\n",
    "print(participantsInfo.head())\n"
   ]
  },
  {
   "cell_type": "code",
   "execution_count": 12,
   "id": "9abb2edb-2820-472c-8c9b-e33efb5553ed",
   "metadata": {},
   "outputs": [
    {
     "name": "stdout",
     "output_type": "stream",
     "text": [
      "44\n",
      "44\n"
     ]
    }
   ],
   "source": [
    "male_count = (participantsInfo['Gender'] == 'M').sum()\n",
    "female_count = (participantsInfo['Gender'] == 'F').sum()\n",
    "print(male_count)\n",
    "print(female_count)"
   ]
  },
  {
   "cell_type": "code",
   "execution_count": null,
   "id": "00c29097-fa37-4b52-8cb4-449bd3d2b56a",
   "metadata": {},
   "outputs": [],
   "source": []
  },
  {
   "cell_type": "code",
   "execution_count": null,
   "id": "4b824afd-51dc-4268-8403-cfa116edc0a4",
   "metadata": {},
   "outputs": [],
   "source": []
  },
  {
   "cell_type": "code",
   "execution_count": null,
   "id": "c0058314-6b89-4ac8-a06c-16ceb5c5a8db",
   "metadata": {},
   "outputs": [],
   "source": []
  }
 ],
 "metadata": {
  "kernelspec": {
   "display_name": "Python 3 (ipykernel)",
   "language": "python",
   "name": "python3"
  },
  "language_info": {
   "codemirror_mode": {
    "name": "ipython",
    "version": 3
   },
   "file_extension": ".py",
   "mimetype": "text/x-python",
   "name": "python",
   "nbconvert_exporter": "python",
   "pygments_lexer": "ipython3",
   "version": "3.9.6"
  }
 },
 "nbformat": 4,
 "nbformat_minor": 5
}
