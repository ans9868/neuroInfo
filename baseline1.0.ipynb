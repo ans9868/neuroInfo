{
 "cells": [
  {
   "cell_type": "code",
   "execution_count": 1,
   "id": "c86ece3f-e2b1-4504-ba92-608bbb957e9a",
   "metadata": {},
   "outputs": [],
   "source": [
    "import numpy as np\n",
    "import pandas as pd\n",
    "import matplotlib.pyplot as plt\n",
    "import seaborn as sns\n",
    "from sklearn.preprocessing import StandardScaler\n",
    "from sklearn.decomposition import PCA\n",
    "from sklearn.model_selection import GridSearchCV, cross_val_score\n",
    "from sklearn.metrics import accuracy_score, confusion_matrix\n",
    "from sklearn.cluster import KMeans\n",
    "from sklearn.svm import SVC\n",
    "from sklearn.linear_model import LogisticRegression\n",
    "from sklearn.naive_bayes import GaussianNB\n",
    "from sklearn.ensemble import RandomForestClassifier\n",
    "import mne"
   ]
  },
  {
   "cell_type": "code",
   "execution_count": 2,
   "id": "01119896-4bb0-457c-8678-ae2f5f112bae",
   "metadata": {},
   "outputs": [],
   "source": [
    "import numpy as np\n",
    "import mne\n",
    "import entropy as ent\n",
    "import neurokit2 as nk\n",
    "from scipy.signal import welch\n",
    "from nolds import lyap_r\n",
    "import antropy as ant"
   ]
  },
  {
   "cell_type": "code",
   "execution_count": 3,
   "id": "d118c50b-123b-4bba-822d-9ceb1fb411ec",
   "metadata": {},
   "outputs": [],
   "source": [
    "participantsInfo = pd.read_table('./ds004504/participants.tsv')"
   ]
  },
  {
   "cell_type": "code",
   "execution_count": 4,
   "id": "ca697920-0d1e-4328-8ba6-dc40bb3de601",
   "metadata": {},
   "outputs": [],
   "source": [
    "#Getting all the groups\n",
    "A_sub = participantsInfo[participantsInfo[\"Group\"] == \"A\"][\"participant_id\"].tolist()\n",
    "C_sub = participantsInfo[participantsInfo[\"Group\"] == \"C\"][\"participant_id\"].tolist()\n",
    "F_sub = participantsInfo[participantsInfo[\"Group\"] == \"F\"][\"participant_id\"].tolist()"
   ]
  },
  {
   "cell_type": "code",
   "execution_count": 20,
   "id": "bfd9655b-6c66-424e-a2f7-3907417ed0ca",
   "metadata": {},
   "outputs": [],
   "source": [
    "def derivativesPath(sub): #dericatives is the preprocessed data\n",
    "    return f\"ds004504/{sub}/eeg/{sub}_task-eyesclosed_eeg.set\"\n",
    "\n",
    "freq_bands = {\n",
    "    \"Delta\": (0.5, 4),\n",
    "    \"Theta\": (4, 8),\n",
    "    \"Alpha\": (8, 12),\n",
    "    \"Beta\": (12, 30),\n",
    "    \"Gamma\": (30, 40),\n",
    "}\n",
    "\n",
    "groups = {\n",
    "    'Alzeimers': ,\n",
    "    'Control': [],\n",
    "    'Dementia': []\n",
    "}\n",
    "\n",
    "window_length = 1.5\n",
    "step_size = .75 #50% sliding window"
   ]
  },
  {
   "cell_type": "markdown",
   "id": "b8e4842c-596c-4727-afaa-d4e98c357872",
   "metadata": {},
   "source": [
    "# *** this is the part where we would do a for loop per group, per subject in that group ***"
   ]
  },
  {
   "cell_type": "code",
   "execution_count": 34,
   "id": "1b924e59-a77e-438c-9a3d-edb64bbaf777",
   "metadata": {},
   "outputs": [],
   "source": [
    "#*this data would be from forloop variables\n",
    "group = 'Alzeimers'\n",
    "subject=0\n"
   ]
  },
  {
   "cell_type": "code",
   "execution_count": 36,
   "id": "62dc3716-4539-4e51-8994-12d379ead2ea",
   "metadata": {},
   "outputs": [],
   "source": [
    "raw_sub = mne.io.read_raw_eeglab(derivativesPath(A_sub[subject]), preload=True)\n",
    "sfreq = raw_sub.info['sfreq']"
   ]
  },
  {
   "cell_type": "code",
   "execution_count": 37,
   "id": "053efec6-fc94-4e72-bd13-4abc82e01c90",
   "metadata": {},
   "outputs": [
    {
     "name": "stdout",
     "output_type": "stream",
     "text": [
      "Not setting metadata\n",
      "798 matching events found\n",
      "No baseline correction applied\n",
      "0 projection items activated\n",
      "Using data from preloaded Raw for 798 events and 751 original time points ...\n",
      "0 bad epochs dropped\n"
     ]
    }
   ],
   "source": [
    "\n",
    "\n",
    "start_times = np.arange(0, raw.times[-1] - window_length, step_size)\n",
    "events = np.array([\n",
    "    [int(t * sfreq), 0, 1] for t in start_times  # MNE event format\n",
    "])\n",
    "\n",
    "# Create epochs with a fixed window size\n",
    "epochs = mne.Epochs(\n",
    "    raw_sub, events, event_id=1,\n",
    "    tmin=0, tmax=window_length,\n",
    "    baseline=None, detrend=1, preload=True\n",
    ")\n"
   ]
  },
  {
   "cell_type": "code",
   "execution_count": null,
   "id": "171a22eb-6c1d-4999-a944-2869978663ea",
   "metadata": {},
   "outputs": [],
   "source": [
    "for bandname, (low, high) in freq_bands:\n",
    "    for epoch_data in epochs.get_data(fmin=low, fmax=high):\n",
    "        channels_avg = an_epoch.mean(axis=-1) #all the channels average at that frequency band\n",
    "        for channelGroup in groups['Alzeimers']\n",
    "        groups['Alzeimers'].append(epoch_A_0)\n",
    "\n",
    "# channels_avg = epochs_A_0.get_data(fmin=0.1, fmax=20).mean(axis=-1)"
   ]
  }
 ],
 "metadata": {
  "kernelspec": {
   "display_name": "Python 3 (ipykernel)",
   "language": "python",
   "name": "python3"
  },
  "language_info": {
   "codemirror_mode": {
    "name": "ipython",
    "version": 3
   },
   "file_extension": ".py",
   "mimetype": "text/x-python",
   "name": "python",
   "nbconvert_exporter": "python",
   "pygments_lexer": "ipython3",
   "version": "3.9.6"
  }
 },
 "nbformat": 4,
 "nbformat_minor": 5
}
