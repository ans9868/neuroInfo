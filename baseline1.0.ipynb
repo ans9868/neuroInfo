{
 "cells": [
  {
   "cell_type": "code",
   "execution_count": 55,
   "id": "c86ece3f-e2b1-4504-ba92-608bbb957e9a",
   "metadata": {},
   "outputs": [],
   "source": [
    "import numpy as np\n",
    "import pandas as pd\n",
    "import matplotlib.pyplot as plt\n",
    "import seaborn as sns\n",
    "from sklearn.preprocessing import StandardScaler\n",
    "from sklearn.decomposition import PCA\n",
    "from sklearn.model_selection import GridSearchCV, cross_val_score\n",
    "from sklearn.metrics import accuracy_score, confusion_matrix\n",
    "from sklearn.cluster import KMeans\n",
    "from sklearn.svm import SVC\n",
    "from sklearn.linear_model import LogisticRegression\n",
    "from sklearn.naive_bayes import GaussianNB\n",
    "from sklearn.ensemble import RandomForestClassifier\n",
    "import mne"
   ]
  },
  {
   "cell_type": "code",
   "execution_count": 235,
   "id": "01119896-4bb0-457c-8678-ae2f5f112bae",
   "metadata": {},
   "outputs": [],
   "source": [
    "import entropy as ent\n",
    "import neurokit2 as nk\n",
    "from scipy.signal import welch\n",
    "from nolds import lyap_r\n",
    "import antropy as ant\n",
    "import joblib"
   ]
  },
  {
   "cell_type": "code",
   "execution_count": 57,
   "id": "d118c50b-123b-4bba-822d-9ceb1fb411ec",
   "metadata": {},
   "outputs": [],
   "source": [
    "participantsInfo = pd.read_table('./ds004504/participants.tsv')"
   ]
  },
  {
   "cell_type": "code",
   "execution_count": 125,
   "id": "ca697920-0d1e-4328-8ba6-dc40bb3de601",
   "metadata": {},
   "outputs": [],
   "source": [
    "#Getting all the groups\n",
    "A_sub = participantsInfo[participantsInfo[\"Group\"] == \"A\"][\"participant_id\"].tolist()\n",
    "C_sub = participantsInfo[participantsInfo[\"Group\"] == \"C\"][\"participant_id\"].tolist()\n",
    "F_sub = participantsInfo[participantsInfo[\"Group\"] == \"F\"][\"participant_id\"].tolist()"
   ]
  },
  {
   "cell_type": "code",
   "execution_count": 141,
   "id": "6b7e5e42-9af6-4d84-80c0-98670d919ada",
   "metadata": {},
   "outputs": [],
   "source": [
    "freq_bands = {\n",
    "    \"Delta\": (0.5, 4),\n",
    "    \"Theta\": (4, 8),\n",
    "    \"Alpha\": (8, 12),\n",
    "    \"Beta\": (12, 30),\n",
    "}\n",
    "\n",
    "import pandas as pd\n",
    "import numpy as np \n",
    "\n",
    "def generate_subject_dataframe(num_subjects: int) -> pd.DataFrame:\n",
    "    \"\"\"\n",
    "    Generates a DataFrame where each subject has 19 channels, \n",
    "    and each channel has 4 bands (Delta, Theta, Alpha, Beta).\n",
    "    \n",
    "    Parameters:\n",
    "        num_subjects (int): Number of subjects to include in the DataFrame.\n",
    "    \n",
    "    Returns:\n",
    "        pd.DataFrame: A DataFrame with hierarchical indexing for subjects, channels, and bands for each window.\n",
    "    \"\"\"\n",
    "    subjects = [f\"sub-{i+1:03d}\" for i in range(num_subjects)]  # Format subject IDs as sub-XXX\n",
    "    # channels = [f\"Channel-{i+1}\" for i in range(19)]\n",
    "    channels = ['Fp1', 'Fp2', 'F3', 'F4', 'C3', 'C4', 'P3', 'P4', 'O1', 'O2', 'F7', 'F8', 'T3', 'T4', 'T5', 'T6', 'Fz', 'Cz', 'Pz']\n",
    "    bands = [\"Delta\", \"Theta\", \"Alpha\", \"Beta\"]\n",
    "    \n",
    "    data = []\n",
    "    for subject in subjects:\n",
    "        for channel in channels:\n",
    "            for band, val in freq_bands.items():\n",
    "                value = np.random.rand()  # Example random value, replace with actual data if needed\n",
    "                data.append([subject, channel, band, []])\n",
    "    \n",
    "    df = pd.DataFrame(data, columns=[\"Subject\", \"Channel\", \"Band\", \"Window Avg\"])\n",
    "\n",
    "    #the .setIndex is creating a multiIndex DataFrame\n",
    "    return df.set_index([\"Subject\", \"Channel\", \"Band\"])\n",
    "\n",
    "# Example usage:\n",
    "# df = generate_subject_dataframe(5)  # Generates a DataFrame for 5 subjects\n",
    "# print(df)"
   ]
  },
  {
   "cell_type": "code",
   "execution_count": 142,
   "id": "bfd9655b-6c66-424e-a2f7-3907417ed0ca",
   "metadata": {},
   "outputs": [],
   "source": [
    "def derivativesPath(sub): #dericatives is the preprocessed data\n",
    "    return f\"ds004504/{sub}/eeg/{sub}_task-eyesclosed_eeg.set\"\n",
    "\n",
    "\n",
    "\n",
    "NUM_SUBJECTS = 3\n",
    "# Use the function inside the groups dictionary\n",
    "groups = {\n",
    "    'Alzeimers': generate_subject_dataframe(NUM_SUBJECTS),\n",
    "    'Control': generate_subject_dataframe(NUM_SUBJECTS),\n",
    "    'Dementia': generate_subject_dataframe(NUM_SUBJECTS),\n",
    "}\n",
    "\n",
    "# Print the DataFrame for 'Alzeimers'\n",
    "\n",
    "WINDOW_LENGTH = 1.5\n",
    "STEP_SIZE = .75 #50% sliding window\n"
   ]
  },
  {
   "cell_type": "markdown",
   "id": "b8e4842c-596c-4727-afaa-d4e98c357872",
   "metadata": {},
   "source": [
    "# ** this is the part where we would do a for loop per group, per subject in that group **"
   ]
  },
  {
   "cell_type": "code",
   "execution_count": 209,
   "id": "1b924e59-a77e-438c-9a3d-edb64bbaf777",
   "metadata": {},
   "outputs": [],
   "source": [
    "#*this data would be from forloop variables ... for group in groups ... for subject in NUM_SUBJECTS:\n",
    "group = 'Alzeimers'\n",
    "index = 0"
   ]
  },
  {
   "cell_type": "code",
   "execution_count": 144,
   "id": "62dc3716-4539-4e51-8994-12d379ead2ea",
   "metadata": {},
   "outputs": [],
   "source": [
    "current_sub = A_sub[index]\n",
    "raw_sub = mne.io.read_raw_eeglab(derivativesPath(current_sub), preload=True)\n",
    "sfreq = raw_sub.info['sfreq']"
   ]
  },
  {
   "cell_type": "code",
   "execution_count": 145,
   "id": "053efec6-fc94-4e72-bd13-4abc82e01c90",
   "metadata": {},
   "outputs": [
    {
     "name": "stdout",
     "output_type": "stream",
     "text": [
      "Not setting metadata\n",
      "798 matching events found\n",
      "No baseline correction applied\n",
      "0 projection items activated\n",
      "Using data from preloaded Raw for 798 events and 751 original time points ...\n",
      "0 bad epochs dropped\n"
     ]
    }
   ],
   "source": [
    "\n",
    "start_times = np.arange(0, raw.times[-1] - WINDOW_LENGTH, STEP_SIZE)\n",
    "events = np.array([\n",
    "    [int(t * sfreq), 0, 1] for t in start_times  # MNE event format\n",
    "])\n",
    "\n",
    "# Create epochs with a fixed window size\n",
    "epochs = mne.Epochs(\n",
    "    raw_sub, events, event_id=1,\n",
    "    tmin=0, tmax=WINDOW_LENGTH,\n",
    "    baseline=None, detrend=1, preload=True\n",
    ")"
   ]
  },
  {
   "cell_type": "code",
   "execution_count": 146,
   "id": "ed54d9da-537d-4ef6-921b-e85bfdb55f88",
   "metadata": {},
   "outputs": [
    {
     "name": "stdout",
     "output_type": "stream",
     "text": [
      "                      Window Avg\n",
      "Subject Channel Band            \n",
      "sub-001 Fp1     Delta         []\n",
      "                Theta         []\n",
      "                Alpha         []\n",
      "                Beta          []\n",
      "        Fp2     Delta         []\n",
      "...                          ...\n",
      "sub-003 Cz      Beta          []\n",
      "        Pz      Delta         []\n",
      "                Theta         []\n",
      "                Alpha         []\n",
      "                Beta          []\n",
      "\n",
      "[228 rows x 1 columns]\n"
     ]
    }
   ],
   "source": [
    "# Adding a item to thef \n",
    "# groups['Alzeimers'].loc[(\"sub-001\", \"Channel-1\", \"Delta\"), \"Window Avg\"].append(22)\n",
    "print(groups['Alzeimers'])"
   ]
  },
  {
   "cell_type": "code",
   "execution_count": 147,
   "id": "7d6dfa4f-a9cd-4218-b39a-ee508e61262c",
   "metadata": {},
   "outputs": [
    {
     "name": "stdout",
     "output_type": "stream",
     "text": [
      "    Using multitaper spectrum estimation with 7 DPSS windows\n"
     ]
    },
    {
     "data": {
      "text/plain": [
       "array([[[-2.86620380e-05, -1.97269244e-05, -6.83673269e-06, ...,\n",
       "         -9.50994150e-05, -9.24631295e-05, -9.23170784e-05],\n",
       "        [-4.68908077e-05, -4.28435982e-05, -4.09936543e-05, ...,\n",
       "         -8.99882684e-05, -8.37437933e-05, -8.37981463e-05],\n",
       "        [-2.30665682e-05, -1.58160014e-05, -2.16025441e-05, ...,\n",
       "         -1.62441899e-05, -1.21674513e-05, -5.99110328e-06],\n",
       "        ...,\n",
       "        [-4.05761815e-05, -3.60218472e-05, -3.59108722e-05, ...,\n",
       "         -5.12548730e-06, -2.96373106e-06, -1.04611544e-06],\n",
       "        [-4.08194824e-05, -3.69885051e-05, -3.40852631e-05, ...,\n",
       "          8.44295782e-06,  1.12485455e-05,  1.58607728e-05],\n",
       "        [-4.88376176e-05, -4.49578770e-05, -4.23964959e-05, ...,\n",
       "          1.49270643e-05,  1.76837656e-05,  2.37119360e-05]]])"
      ]
     },
     "execution_count": 147,
     "metadata": {},
     "output_type": "execute_result"
    }
   ],
   "source": [
    "epoch_0 = epochs[0]\n",
    "epoch_0.compute_psd() #just realised I should computer PSD then sperate that by the time window and the fmin/fmax from Specrtum.get_data()\n",
    "epoch_0.get_data()"
   ]
  },
  {
   "cell_type": "code",
   "execution_count": 207,
   "id": "579542ae-ace3-4854-ad22-27828a30626d",
   "metadata": {},
   "outputs": [
    {
     "name": "stdout",
     "output_type": "stream",
     "text": [
      "[[-1.15494239e-20 -5.54372349e-20 -2.45425259e-20 ... -3.58032142e-20\n",
      "   5.77471197e-21  1.61691935e-20]\n",
      " [ 2.07889631e-20 -9.96137815e-21  5.48597637e-21 ...  1.44367799e-21\n",
      "  -4.61976958e-21 -2.05002275e-20]\n",
      " [ 1.96340207e-20  5.54372349e-20 -1.73241359e-20 ... -7.50712556e-21\n",
      "  -1.03944815e-20 -5.42822925e-20]\n",
      " ...\n",
      " [ 3.58032142e-20  3.40708006e-20  4.04229838e-20 ...  9.23953915e-21\n",
      "   1.03944815e-20  4.73526382e-20]\n",
      " [-1.73241359e-21  1.61691935e-20  3.58032142e-20 ...  2.42537903e-20\n",
      "   4.50427534e-20  1.50142511e-20]\n",
      " [ 3.37820650e-20 -5.19724077e-21  4.61976958e-20 ...  5.77471197e-21\n",
      "  -3.63806854e-20  3.98455126e-20]]\n"
     ]
    }
   ],
   "source": [
    "epoch_data = epochs.get_data()\n",
    "channels_avg = epoch_data.mean(axis=-1)\n",
    "print(channels_avg)"
   ]
  },
  {
   "cell_type": "code",
   "execution_count": 149,
   "id": "4e6c895f-cfa6-4cef-ba4f-8a30928563c1",
   "metadata": {},
   "outputs": [],
   "source": [
    "#example of mutating desicred thingy\n",
    "# groups['Alzeimers'].loc[(\"sub-001\", \"Channel-1\", \"Delta\"), \"Window Avg\"].append(22)\n",
    "# print(groups['Alzeimers'].loc[(\"sub-001\", \"Channel-1\", \"Delta\")])\n",
    "# groups['Alzeimers'].loc[(\"sub-001\", \"Channel-1\", \"Delta\"), \"Window Avg\"].pop()"
   ]
  },
  {
   "cell_type": "code",
   "execution_count": 150,
   "id": "7bce0d69-d5b0-4911-a2fb-ccbe49f3be6f",
   "metadata": {},
   "outputs": [
    {
     "name": "stdout",
     "output_type": "stream",
     "text": [
      "<Epochs | 1 events (all good), 0 – 1.5 s (baseline off), ~143 kB, data loaded,\n",
      " '1': 1>\n",
      "798\n"
     ]
    }
   ],
   "source": [
    "print(epochs[0])\n",
    "print(len(epochs))"
   ]
  },
  {
   "cell_type": "code",
   "execution_count": 151,
   "id": "df57c075-1f4b-4271-8041-7bee5132c00b",
   "metadata": {},
   "outputs": [
    {
     "name": "stdout",
     "output_type": "stream",
     "text": [
      "                      Window Avg\n",
      "Subject Channel Band            \n",
      "sub-001 Fp1     Delta         []\n",
      "                Theta         []\n",
      "                Alpha         []\n",
      "                Beta          []\n",
      "        Fp2     Delta         []\n",
      "...                          ...\n",
      "sub-003 Cz      Beta          []\n",
      "        Pz      Delta         []\n",
      "                Theta         []\n",
      "                Alpha         []\n",
      "                Beta          []\n",
      "\n",
      "[228 rows x 1 columns]\n"
     ]
    }
   ],
   "source": [
    "# KeyError: ('sub-001', 'Fp1', 'Delta')\n",
    "print(groups['Control'])\n"
   ]
  },
  {
   "cell_type": "code",
   "execution_count": 219,
   "id": "9be44597-b45a-4eed-b686-52d0e275c5b2",
   "metadata": {},
   "outputs": [],
   "source": [
    "#to clear out the data in windows\n",
    "for group in groups.keys():\n",
    "    groups[group][\"Window Avg\"] = groups[group][\"Window Avg\"].apply(lambda x: [])\n"
   ]
  },
  {
   "cell_type": "code",
   "execution_count": 238,
   "id": "3cea6f71-58e5-4565-aa1f-903b917bc386",
   "metadata": {
    "scrolled": true
   },
   "outputs": [
    {
     "name": "stdout",
     "output_type": "stream",
     "text": [
      "11.659667015075684\n"
     ]
    }
   ],
   "source": [
    "#for epoch in epochs:\n",
    "import time\n",
    "start = time.time()\n",
    "group = 'Alzeimers'\n",
    "for x in range(len(epochs)):\n",
    "    epoch = epochs[x]\n",
    "    epoch_psd = epoch.compute_psd(fmin=freq_bands[\"Delta\"][0], fmax=freq_bands[\"Beta\"][1], verbose=False) #computing the max PSD between the wave lengths\n",
    "    for channel_name in channel_names:\n",
    "                for band, (band_low, band_high) in freq_bands.items():   \n",
    "                    # groups[group].loc[(current_sub, channel_name, band), \"Window Avg\"].append(21)\n",
    "                    # print(group)\n",
    "                    channel_at_freq = epoch_psd.get_data(picks=channel_name , fmin=band_low, fmax=band_high)\n",
    "                    channel_at_freq_avg = channel_at_freq.mean(axis=-1)[0][0] # am I computing the average correctly ? \n",
    "                    #print(channel_at_freq_avg)\n",
    "                    #print(channel_at_freq.mean(axis=-1))\n",
    "                    #print(channel_at_freq.mean(axis=-1)[0][0])\n",
    "                    groups[group].loc[(current_sub, channel_name, band), \"Window Avg\"].append(channel_at_freq_avg)\n",
    "                    #groups[group].loc[(current_sub, channel_name, band), \"Window Avg\"].append(channel_at_freq_avg)\n",
    "                        #groups[group][current_sub][bandname][channel].append(channels_avg['channel']) # i think the stuff after teh .append is wrongly formatted \n",
    "\n",
    "\n",
    "print(time.time() - start)"
   ]
  },
  {
   "cell_type": "code",
   "execution_count": 237,
   "id": "95781751-af83-472d-9cb2-dc37938e071b",
   "metadata": {},
   "outputs": [
    {
     "name": "stdout",
     "output_type": "stream",
     "text": [
      "Alzeimers preview\n",
      "                                                      Window Avg\n",
      "Channel Band                                                    \n",
      "Fp1     Delta  [22, 6.608459244053082e-07, 4.5940200778354104...\n",
      "        Theta  [1.3203320724332953e-08, 1.1858158244737662e-0...\n",
      "        Alpha  [2.9003921037250706e-09, 3.4611214363582827e-0...\n",
      "        Beta   [4.348326037721751e-10, 4.3949036611322243e-10...\n",
      "Fp2     Delta  [7.673272292107713e-07, 4.0872890122911074e-08...\n",
      "...                                                          ...\n",
      "Cz      Beta   [2.404118099848597e-10, 2.4165411116677754e-10...\n",
      "Pz      Delta  [4.9779476973346886e-08, 3.405565062138606e-08...\n",
      "        Theta  [6.68025039579135e-09, 5.082621867600136e-09, ...\n",
      "        Alpha  [1.9780196757133883e-09, 1.6280563582418197e-0...\n",
      "        Beta   [2.5787183930951195e-10, 2.2537497445582267e-1...\n",
      "\n",
      "[76 rows x 1 columns]\n",
      "Dementia preview\n",
      "                                                      Window Avg\n",
      "Channel Band                                                    \n",
      "Fp1     Delta  [6.608459244053082e-07, 4.5940200778354104e-08...\n",
      "        Theta  [1.3203320724332953e-08, 1.1858158244737662e-0...\n",
      "        Alpha  [2.9003921037250706e-09, 3.4611214363582827e-0...\n",
      "        Beta   [4.348326037721751e-10, 4.3949036611322243e-10...\n",
      "Fp2     Delta  [7.673272292107713e-07, 4.0872890122911074e-08...\n",
      "...                                                          ...\n",
      "Cz      Beta   [2.404118099848597e-10, 2.4165411116677754e-10...\n",
      "Pz      Delta  [4.9779476973346886e-08, 3.405565062138606e-08...\n",
      "        Theta  [6.68025039579135e-09, 5.082621867600136e-09, ...\n",
      "        Alpha  [1.9780196757133883e-09, 1.6280563582418197e-0...\n",
      "        Beta   [2.5787183930951195e-10, 2.2537497445582267e-1...\n",
      "\n",
      "[76 rows x 1 columns]\n",
      "Control preview\n",
      "              Window Avg\n",
      "Channel Band            \n",
      "Fp1     Delta         []\n",
      "        Theta         []\n",
      "        Alpha         []\n",
      "        Beta          []\n",
      "Fp2     Delta         []\n",
      "...                  ...\n",
      "Cz      Beta          []\n",
      "Pz      Delta         []\n",
      "        Theta         []\n",
      "        Alpha         []\n",
      "        Beta          []\n",
      "\n",
      "[76 rows x 1 columns]\n"
     ]
    }
   ],
   "source": [
    "print(\"Alzeimers preview\")\n",
    "print(groups['Alzeimers'].loc[\"sub-001\"])\n",
    "print(\"Dementia preview\")\n",
    "print(groups['Dementia'].loc[\"sub-001\"])\n",
    "print(\"Control preview\")\n",
    "print(groups['Control'].loc[\"sub-001\"])"
   ]
  },
  {
   "cell_type": "code",
   "execution_count": 192,
   "id": "cdb10382-8522-4805-b0b1-dc63c9d4fcef",
   "metadata": {},
   "outputs": [
    {
     "name": "stdout",
     "output_type": "stream",
     "text": [
      "              Window Avg\n",
      "Channel Band            \n",
      "Fp1     Delta         []\n",
      "        Theta         []\n",
      "        Alpha         []\n",
      "        Beta          []\n",
      "Fp2     Delta         []\n",
      "...                  ...\n",
      "Cz      Beta          []\n",
      "Pz      Delta         []\n",
      "        Theta         []\n",
      "        Alpha         []\n",
      "        Beta          []\n",
      "\n",
      "[76 rows x 1 columns]\n"
     ]
    }
   ],
   "source": [
    "print(groups['Alzeimers'].loc[\"sub-001\"])"
   ]
  },
  {
   "cell_type": "code",
   "execution_count": 170,
   "id": "c6f55265-ca31-44f8-9119-fe213231424e",
   "metadata": {},
   "outputs": [
    {
     "name": "stdout",
     "output_type": "stream",
     "text": [
      "                                                      Window Avg\n",
      "Channel Band                                                    \n",
      "Fp1     Delta  [[[6.608459244053082e-07]], [[4.59402007783541...\n",
      "        Theta  [[[1.3203320724332953e-08]], [[1.1858158244737...\n",
      "        Alpha  [[[2.9003921037250706e-09]], [[3.4611214363582...\n",
      "        Beta   [[[4.348326037721751e-10]], [[4.39490366113222...\n",
      "Fp2     Delta  [[[7.673272292107713e-07]], [[4.08728901229110...\n",
      "...                                                          ...\n",
      "Cz      Beta   [[[2.404118099848597e-10]], [[2.41654111166777...\n",
      "Pz      Delta  [[[4.9779476973346886e-08]], [[3.4055650621386...\n",
      "        Theta  [[[6.68025039579135e-09]], [[5.082621867600136...\n",
      "        Alpha  [[[1.9780196757133883e-09]], [[1.6280563582418...\n",
      "        Beta   [[[2.5787183930951195e-10]], [[2.2537497445582...\n",
      "\n",
      "[76 rows x 1 columns]\n"
     ]
    }
   ],
   "source": [
    "print(groups['Alzeimers'].loc[\"sub-001\"])"
   ]
  },
  {
   "cell_type": "code",
   "execution_count": null,
   "id": "319730ce-26a9-4a8d-ad1b-2a3de4e408ee",
   "metadata": {},
   "outputs": [],
   "source": [
    "# Previous attempts below"
   ]
  },
  {
   "cell_type": "code",
   "execution_count": null,
   "id": "2f6a1f8a-c84b-4a15-9889-a6afbb5cabca",
   "metadata": {},
   "outputs": [],
   "source": [
    "for bandname, (low, high) in freq_bands:\n",
    "    for epoch in epochs.get_data(fmin=low, fmax=high):\n",
    "        channels_avg = epoch_data.mean(axis=-1) #all the channels average at that frequency band\n",
    "        # channels_avg = an_epoch.mean(axis=-1) #all the channels average at that frequency band\n",
    "        for channel in channel_names:\n",
    "            groups[group][current_sub][bandname][channel].append(channels_avg['channel']) # i think the stuff after teh .append is wrongly formatted "
   ]
  },
  {
   "cell_type": "code",
   "execution_count": 136,
   "id": "171a22eb-6c1d-4999-a944-2869978663ea",
   "metadata": {},
   "outputs": [
    {
     "ename": "SyntaxError",
     "evalue": "invalid syntax (2909161960.py, line 9)",
     "output_type": "error",
     "traceback": [
      "\u001b[0;36m  Cell \u001b[0;32mIn[136], line 9\u001b[0;36m\u001b[0m\n\u001b[0;31m    for\u001b[0m\n\u001b[0m        ^\u001b[0m\n\u001b[0;31mSyntaxError\u001b[0m\u001b[0;31m:\u001b[0m invalid syntax\n"
     ]
    }
   ],
   "source": [
    "for bandname, (low, high) in freq_bands:\n",
    "    # for epoch in epochs:\n",
    "    for x in range(len(epochs)):\n",
    "        epoch = epochs[x]\n",
    "        epoch.computer_psd(fmin=freq_bands[\"Delta\"][0], fmax=freq_bands[\"Beta\"][1]) #computing the max PSD between the wave lengths\n",
    "        #channels_avg = epoch_data.mean(axis=-1) #all the channels average at that frequency band\n",
    "        # channels_avg = an_epoch.mean(axis=-1) #all the channels average at that frequency band\n",
    "        for channel in channel_names:\n",
    "            for \n",
    "            groups[group][current_sub][bandname][channel].append(channels_avg['channel']) # i think the stuff after teh .append is wrongly formatted \n",
    "        \n",
    "            \n",
    "            # for channelGroup in groups['Alzeimers']\n",
    "        #     groups[channelGroup] #append the channels avg accrouss the 19 \n",
    "\n",
    "# channels_avg = epochs_A_0.get_data(fmin=0.1, fmax=20).mean(axis=-1)"
   ]
  },
  {
   "cell_type": "code",
   "execution_count": null,
   "id": "bc68b2cb-13a0-4723-85d1-ae616374db68",
   "metadata": {},
   "outputs": [],
   "source": [
    "#replicating above ^ doing it differently\n",
    "for bandname, (low, high) in freq_bands:\n",
    "\n",
    "    \n",
    "    \n",
    "    #for epoch_data in epochs.get_data(fmin=low, fmax=high):\n",
    "    for epoch in epochs:\n",
    "        '''\n",
    "        an_epochs_psd = epochs[0].compute_psd(method='multitaper', fmin=0.1, fmax=20.0)\n",
    "an_epochs_psd.plot() # this plots all channels *tested works*\n",
    "an_epochs_psd.plot(picks=channel_names[0]) # this plots a channel *tested works*\n",
    "**do this stuff here **\n",
    "        '''\n",
    "        e\n",
    "        channels_avg = an_epoch.mean(axis=-1) #all the channels average at that frequency band\n",
    "        for channelGroup in groups['Alzeimers']\n",
    "            groups['Alzeimers'] #append the channels avg accrouss the 19 spots respectivly \n",
    "\n",
    "# channels_avg = epochs_A_0.get_data(fmin=0.1, fmax=20).mean(axis=-1)"
   ]
  }
 ],
 "metadata": {
  "kernelspec": {
   "display_name": "Python 3 (ipykernel)",
   "language": "python",
   "name": "python3"
  },
  "language_info": {
   "codemirror_mode": {
    "name": "ipython",
    "version": 3
   },
   "file_extension": ".py",
   "mimetype": "text/x-python",
   "name": "python",
   "nbconvert_exporter": "python",
   "pygments_lexer": "ipython3",
   "version": "3.9.6"
  }
 },
 "nbformat": 4,
 "nbformat_minor": 5
}
